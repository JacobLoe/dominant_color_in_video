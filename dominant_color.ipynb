{
 "cells": [
  {
   "cell_type": "code",
   "execution_count": 1,
   "metadata": {},
   "outputs": [],
   "source": [
    "#libraries\n",
    "import cv2\n",
    "import numpy as np\n",
    "import pandas as pd\n",
    "from scipy.spatial.distance import euclidean\n",
    "from sklearn.neighbors import KDTree\n",
    "import time\n",
    "import argparse\n",
    "import json\n",
    "import xml.etree.ElementTree as ET\n",
    "from tqdm import tqdm\n",
    "import zipfile\n",
    "from skimage.color import rgb2hsv,rgb2lab"
   ]
  },
  {
   "cell_type": "code",
   "execution_count": 2,
   "metadata": {},
   "outputs": [],
   "source": [
    "#read video file frame by frame, beginning and ending with a timestamp\n",
    "def read_video_segments(video,start_frame,end_frame,resolution_width=200):\n",
    "    resolution_height=int(round(resolution_width * 9/16))\n",
    "    resolution=(resolution_width,resolution_height)\n",
    "    vid = cv2.VideoCapture(video)\n",
    "    frames=[]\n",
    "    vid_length=0\n",
    "    with tqdm(total=end_frame-start_frame) as pbar: #init the progressbar,with max lenght of the given segment\n",
    "        while(vid.isOpened()):\n",
    "            # Capture frame-by-frame\n",
    "            ret, frame = vid.read() # if ret is false, frame has no content\n",
    "            if not ret:\n",
    "                break\n",
    "            # skip every \"skip_frame\"\n",
    "            if vid_length>=start_frame:\n",
    "                # resize the video to a different resolution\n",
    "                frame=cv2.resize(frame,resolution)\n",
    "                frames.append(frame) #add the individual frames to a list\n",
    "                pbar.update() #update the progressbar\n",
    "            if vid_length==end_frame:\n",
    "                pbar.update()\n",
    "                break\n",
    "            vid_length+=1 #increase the vid_length counter\n",
    "    vid.release()\n",
    "    cv2.destroyAllWindows()\n",
    "    return frames"
   ]
  },
  {
   "cell_type": "code",
   "execution_count": 3,
   "metadata": {},
   "outputs": [],
   "source": [
    "def extract_dominant_colors(frame_list):\n",
    "    print(str(len(frame_list))+' frames to process.')\n",
    "#     start=time.time()\n",
    "    rgb_to_color=fn_rgb_to_color() #get the color dict \n",
    "    bins={} #a dict with an entry for each for histograms \n",
    "    for rgb in rgb_to_color: #init the dict with zeros for every key\n",
    "        bins[rgb_to_color[rgb]]=0\n",
    "        \n",
    "    rgb_list=[] #create a list of the rgb_values\n",
    "    for rgb in rgb_to_color: #map the values of the dict to a list\n",
    "        rgb_list.append(rgb)\n",
    "    i = 0\n",
    "\n",
    "    kdt = KDTree(rgb_list, leaf_size=30, metric='euclidean')  \n",
    "    for image in tqdm(frame_list): #traverse the video\n",
    "        #flatten the image to 1d \n",
    "        img = image.reshape((image.shape[0] * image.shape[1], 3))     \n",
    "        nns = kdt.query(img, k=1, return_distance=False)\n",
    "        for nn in nns:\n",
    "            bins[rgb_to_color[rgb_list[nn[0]]]]+=1\n",
    "        i+=1\n",
    "#         end=time.time()\n",
    "#         print('Finished '+str(i)+',time: '+str(end-start))\n",
    "        norm_factor = len(frame_list)* np.shape(frame_list[0])[0] * np.shape(frame_list[0])[1]#normalize the bins\n",
    "        bins_norm={k:v/norm_factor for k,v in bins.items()}\n",
    "    return bins_norm"
   ]
  },
  {
   "cell_type": "code",
   "execution_count": 4,
   "metadata": {},
   "outputs": [],
   "source": [
    "def bins_to_df(bins,bin_threshold=5,colors_to_return=5):\n",
    "    #create a dataframe, sorted descending by count\n",
    "    bins_sorted=sorted(zip(list(bins.values()),list(bins.keys())),reverse=True)\n",
    "    df=pd.DataFrame(bins_sorted,columns=['count','color'])\n",
    "    df.set_index('color',inplace=True) #set the colors as the index of the dataframe\n",
    "    bin_threshold=bin_threshold/100 #scale the percentage to 0-1\n",
    "    df = df[df>bin_threshold].dropna() #kick bins from the dataframe with precentage lower than bin_threshold \n",
    "    return df.head(colors_to_return)#return the color_return highest bins, default 5, if less bins then\n",
    "                                    #color_return are there return all"
   ]
  },
  {
   "cell_type": "code",
   "execution_count": 5,
   "metadata": {},
   "outputs": [],
   "source": [
    "def fn_rgb_to_color(*path):\n",
    "    if not ('no'):\n",
    "        path=str(path)[2:-3] #to get rid of the of the *args things\n",
    "        rgb_to_color = {}\n",
    "        with open(path) as f:\n",
    "            for line in f:\n",
    "                #split lines at \"::\n",
    "                color, rgb = line.strip().split(':')\n",
    "                #strip the rgb-string of the parenthesis, split it up a the commas,\n",
    "                #cast them to int and put them into a tuples\n",
    "                rgb_value=tuple(map(int,(rgb.strip('(').strip(')').split(','))))\n",
    "                rgb_to_color[rgb_value] = color\n",
    "    else:\n",
    "        colors={'darkred':(139,0,0),\n",
    "        'firebrick':(178,34,34),\n",
    "        'crimson':(220,20,60),\n",
    "        'red':(255,0,0),\n",
    "        'tomato':(255,99,71),\n",
    "        'salmon':(250,128,114),\n",
    "        'darkorange':(255,140,0),\n",
    "        'gold':(255,215,0),\n",
    "        'darkkhaki':(189,183,107),\n",
    "        'yellow':(255,255,0),\n",
    "        'darkolivegreen':(85,107,47),\n",
    "        'olivedrab':(107,142,35),\n",
    "        'greenyellow':(173,255,47),\n",
    "        'darkgreen':(0,100,0),\n",
    "        'aquamarine':(127,255,212),\n",
    "        'steelblue':(70,130,180),\n",
    "        'skyblue':(135,206,235),\n",
    "        'darkblue':(0,0,139),\n",
    "        'blue':(0,0,255),\n",
    "        'royalblue':(65,105,225),\n",
    "        'purple':(128,0,128),\n",
    "        'violet':(238,130,238),\n",
    "        'deeppink':(255,20,147),\n",
    "        'pink':(255,192,203),\n",
    "        'antiquewhite':(250,235,215),\n",
    "        'saddlebrown':(139,69,19),\n",
    "        'sandybrown':(244,164,96),\n",
    "        'ivory':(255,255,240),\n",
    "        'dimgrey':(105,105,105),\n",
    "        'grey':(28,128,128),\n",
    "        'silver':(192,192,192),\n",
    "        'lightgrey':(211,211,211),\n",
    "        'black':(0,0,0),\n",
    "        'white':(255,255,255),\n",
    "        'darkcyan':(0,139,139),\n",
    "        'cyan':(0,255,255),\n",
    "        'green':(0,128,0),\n",
    "        'khaki':(240,230,140),\n",
    "        'goldenrod':(218,165,32),\n",
    "        'orange':(255,165,0),\n",
    "        'coral':(255,127,80),\n",
    "        'magenta':(255,0,255),\n",
    "        'wheat':(245,222,179),\n",
    "        'skin':(255,224,189),\n",
    "        'purple4':(147,112,219)}\n",
    "        rgb_to_color={}\n",
    "        for color in colors:\n",
    "            rgb_to_color[colors[color]]=color\n",
    "        #purple4 is median purple\n",
    "        #skin is caucasian\n",
    "    return rgb_to_color"
   ]
  },
  {
   "cell_type": "code",
   "execution_count": 6,
   "metadata": {},
   "outputs": [],
   "source": [
    "def read_azp(azp_path):\n",
    "    #extract the .azp-file to /tmp\n",
    "    zip_ref = zipfile.ZipFile(azp_path)\n",
    "    zip_ref.extractall('/tmp')\n",
    "    #read the .xml-file\n",
    "    tree = ET.parse('/tmp/content.xml')\n",
    "    root = tree.getroot().findall('./{http://experience.univ-lyon1.fr/advene/ns}annotations')\n",
    "    #traverse the .xml-file\n",
    "    with open(args.output_path,'w') as file:\n",
    "            if args.what_to_process=='scene':\n",
    "                segment_list=[]\n",
    "            for child in root[0].iter():\n",
    "                if child.get('type')=='#Shot': #whenever a shot annotation is found, extract the timestamp from the xml\n",
    "                    dominant_colors_list=[]\n",
    "                    for child2 in child:\n",
    "                        if child2.tag=='{http://experience.univ-lyon1.fr/advene/ns}millisecond-fragment':\n",
    "                            end=int(child2.get('end'))/1000*25\n",
    "                            begin=int(child2.get('begin'))/1000*25\n",
    "                            if args.what_to_process=='scene': #if 'scene' is selected append the frames of the segments to a list\n",
    "                                segment_list.append(read_video_segments(args.video_path,begin,end,args.resolution_width))\n",
    "                            if args.what_to_process=='segment': #if 'segment' is selected run extract_dominant_colors on the segment\n",
    "                                segment = read_video_segments(args.video_path,begin,end,args.resolution_width)\n",
    "                                colors_df = bins_to_df(extract_dominant_colors(segment),args.bin_threshold,args.colors_to_return)\n",
    "                                colors_list = [(color,perc) for color,perc in zip(colors_df.index.values,colors_df.values.tolist())]\n",
    "                                print(begin,end,colors_list)\n",
    "                                file.write((begin,end,colors_list)+'\\n') #write the timestamp and the extracted colors to file\n",
    "            if args.what_to_process=='scene': #if 'scene' is selected run extract_dominant_colors on the the list of segments\n",
    "                colors_df = bins_to_df(extract_dominant_colors(segment_list),args.bin_threshold,args.colors_to_return)\n",
    "                colors_list = [(color,perc) for color,perc in zip(colors_df.index.values,colors_df.values.tolist())]\n",
    "                print(colors_list)\n",
    "                file.write(colors_list+'\\n') #write the extracted colors to file\n",
    "            file.close()"
   ]
  },
  {
   "cell_type": "code",
   "execution_count": null,
   "metadata": {},
   "outputs": [],
   "source": [
    "def read_azp2(azp_path):\n",
    "    #extract the .azp-file to /tmp\n",
    "    zip_ref = zipfile.ZipFile(azp_path)\n",
    "    zip_ref.extractall('/tmp')\n",
    "    #read the .xml-file\n",
    "    tree = ET.parse('/tmp/content.xml')\n",
    "    root = tree.getroot().findall('./{http://experience.univ-lyon1.fr/advene/ns}annotations')\n",
    "    #traverse the .xml-file\n",
    "    for child in root[0].iter():\n",
    "        if child.get('type')=='#Shot': #whenever a shot annotation is found, extract the timestamp from the xml\n",
    "            for child2 in child:\n",
    "                if child2.tag=='{http://experience.univ-lyon1.fr/advene/ns}millisecond-fragment':\n",
    "                    end=int(child2.get('end'))/1000*25\n",
    "                    begin=int(child2.get('begin'))/1000*25"
   ]
  },
  {
   "cell_type": "code",
   "execution_count": 7,
   "metadata": {},
   "outputs": [],
   "source": [
    "def azp_path(path):\n",
    "    if path[-4:] == '.azp': #if the path is to a single file\n",
    "        print('exactly')\n",
    "#         read_azp(path)\n",
    "    elif path[0][-4:] == '.azp': #if the path is to several files\n",
    "        print('like')\n",
    "        for azp_path in path:\n",
    "            print(azp_path)\n",
    "#             read_azp(azp_path)\n",
    "    else: #else it is assumed the path points to a directory\n",
    "        directory_content = os.listdir(path)\n",
    "        azp_list=[]\n",
    "        for elem in directory_content:\n",
    "            if elem[-4:]=='.azp':\n",
    "                if path[-1]=='/': #if the path ends with an '/', add the .azp-file\n",
    "                    azp_list.append(path+elem)    \n",
    "                else: #else, add a '/' and then the .azp-file\n",
    "                    azp_list.append(path+'/'+elem)\n",
    "        for azp_path in azp_list:\n",
    "#             read_azp(azp_path)\n",
    "            print(azp_path)\n",
    "        print('planned')"
   ]
  },
  {
   "cell_type": "code",
   "execution_count": 8,
   "metadata": {},
   "outputs": [],
   "source": [
    "def change_colorspace(frame_list,*target_colorspace):\n",
    "    changed_frame_list=[]\n",
    "    if target_colorspace=='HSV':\n",
    "        for frame in frame_list:\n",
    "            changed_frame_list.append(rgb2hsv(frame))\n",
    "        return changed_frame_list\n",
    "    if target_colorspace=='cie-lab':\n",
    "        for frame in frame_list:\n",
    "            changed_frame_list.append(rgb2lab(frame))\n",
    "        return changed_frame_list\n",
    "    else:\n",
    "        return frame_list"
   ]
  },
  {
   "cell_type": "code",
   "execution_count": 9,
   "metadata": {},
   "outputs": [],
   "source": [
    "#extract the .azp-file to /tmp\n",
    "zip_ref = zipfile.ZipFile('CompanyMen_v1.0-split-012-Bobby_being_angry.azp')\n",
    "zip_ref.extractall('/tmp')\n",
    "#read the .xml-file\n",
    "tree = ET.parse('/tmp/content.xml')\n",
    "root = tree.getroot().findall('./{http://experience.univ-lyon1.fr/advene/ns}annotations')"
   ]
  },
  {
   "cell_type": "code",
   "execution_count": 10,
   "metadata": {},
   "outputs": [
    {
     "ename": "TypeError",
     "evalue": "'NoneType' object is not callable",
     "output_type": "error",
     "traceback": [
      "\u001b[0;31m---------------------------------------------------------------------------\u001b[0m",
      "\u001b[0;31mTypeError\u001b[0m                                 Traceback (most recent call last)",
      "\u001b[0;32m<ipython-input-10-7d3197db45da>\u001b[0m in \u001b[0;36m<module>\u001b[0;34m()\u001b[0m\n\u001b[1;32m      3\u001b[0m     \u001b[0;32mif\u001b[0m \u001b[0mchild\u001b[0m\u001b[0;34m.\u001b[0m\u001b[0mget\u001b[0m\u001b[0;34m(\u001b[0m\u001b[0;34m'type'\u001b[0m\u001b[0;34m)\u001b[0m\u001b[0;34m==\u001b[0m\u001b[0;34m'#ColourRange'\u001b[0m\u001b[0;34m:\u001b[0m \u001b[0;31m#whenever a shot annotation is found, extract the timestamp from the xml\u001b[0m\u001b[0;34m\u001b[0m\u001b[0m\n\u001b[1;32m      4\u001b[0m         \u001b[0mdominant_colors_list\u001b[0m\u001b[0;34m=\u001b[0m\u001b[0;34m[\u001b[0m\u001b[0;34m]\u001b[0m\u001b[0;34m\u001b[0m\u001b[0m\n\u001b[0;32m----> 5\u001b[0;31m         \u001b[0mprint\u001b[0m\u001b[0;34m(\u001b[0m\u001b[0mchild\u001b[0m\u001b[0;34m.\u001b[0m\u001b[0mtail\u001b[0m\u001b[0;34m(\u001b[0m\u001b[0;34m)\u001b[0m\u001b[0;34m)\u001b[0m\u001b[0;34m\u001b[0m\u001b[0m\n\u001b[0m\u001b[1;32m      6\u001b[0m \u001b[0;31m#         for child2 in child:\u001b[0m\u001b[0;34m\u001b[0m\u001b[0;34m\u001b[0m\u001b[0m\n\u001b[1;32m      7\u001b[0m \u001b[0;31m#             if child2.tag=='{http://experience.univ-lyon1.fr/advene/ns}content':\u001b[0m\u001b[0;34m\u001b[0m\u001b[0;34m\u001b[0m\u001b[0m\n",
      "\u001b[0;31mTypeError\u001b[0m: 'NoneType' object is not callable"
     ]
    }
   ],
   "source": [
    "#traverse the .xml-file\n",
    "for child in root[0].iter():\n",
    "    if child.get('type')=='#ColourRange': #whenever a shot annotation is found, extract the timestamp from the xml\n",
    "        dominant_colors_list=[]\n",
    "        print(child.tail())\n",
    "#         for child2 in child:\n",
    "#             if child2.tag=='{http://experience.univ-lyon1.fr/advene/ns}content':\n",
    "#                 print(child2.items())\n",
    "#             print(child2)\n",
    "        break\n",
    "#             for child2 in child:\n",
    "#                 if child2.tag=='{http://experience.univ-lyon1.fr/advene/ns}millisecond-fragment':\n",
    "\n",
    "#                     end=int(child2.get('end'))/1000*25\n",
    "#                     begin=int(child2.get('begin'))/1000*25\n",
    "#                     if args.what_to_process=='scene': #if 'scene' is selected append the frames of the segments to a list\n",
    "#                         segment_list.append(read_video_segments(args.video_path,begin,end,args.resolution_width))\n",
    "#                     if args.what_to_process=='segment': #if 'segment' is selected run extract_dominant_colors on the segment\n",
    "#                         segment = read_video_segments(args.video_path,begin,end,args.resolution_width)\n",
    "#                         colors_df = bins_to_df(extract_dominant_colors(segment),args.bin_threshold,args.colors_to_return)\n",
    "#                         colors_list = [(color,perc) for color,perc in zip(colors_df.index.values,colors_df.values.tolist())]\n",
    "#                         print(begin,end,colors_list)\n",
    "#                         file.write((begin,end,colors_list)+'\\n') #write the timestamp and the extracted colors to file\n",
    "#             file.close()"
   ]
  },
  {
   "cell_type": "code",
   "execution_count": 35,
   "metadata": {},
   "outputs": [],
   "source": [
    "# 'fehlermaß'\n",
    "colors_target=[['red','black','green','white'],['grey','orange','violet','crimson','blue','yellow']]\n",
    "colors_pred=[['red','black','green','white'],['orange','violet','crimson','blue','yellow']]"
   ]
  },
  {
   "cell_type": "code",
   "execution_count": 36,
   "metadata": {},
   "outputs": [],
   "source": [
    "def intersect(a, b):\n",
    "    return list(set(a) & set(b))"
   ]
  },
  {
   "cell_type": "code",
   "execution_count": 37,
   "metadata": {},
   "outputs": [
    {
     "data": {
      "text/plain": [
       "1.0"
      ]
     },
     "execution_count": 37,
     "metadata": {},
     "output_type": "execute_result"
    }
   ],
   "source": [
    "len(colors_target[0])/len(list(set(colors_target[0]) & set(colors_pred[0])))"
   ]
  },
  {
   "cell_type": "code",
   "execution_count": 38,
   "metadata": {},
   "outputs": [],
   "source": [
    "acc=[]\n",
    "tl=0\n",
    "pl=0\n",
    "for target,pred in zip(colors_target,colors_pred):\n",
    "#     acc.append(len(pred)/len(list(set(target) & set(pred))))\n",
    "    tl+=len(target)\n",
    "    pl+=len(list(set(target) & set(pred)))"
   ]
  },
  {
   "cell_type": "code",
   "execution_count": 39,
   "metadata": {},
   "outputs": [
    {
     "data": {
      "text/plain": [
       "0.9"
      ]
     },
     "execution_count": 39,
     "metadata": {},
     "output_type": "execute_result"
    }
   ],
   "source": [
    "# acc\n",
    "pl/tl"
   ]
  },
  {
   "cell_type": "code",
   "execution_count": null,
   "metadata": {},
   "outputs": [],
   "source": []
  }
 ],
 "metadata": {
  "kernelspec": {
   "display_name": "Python 3",
   "language": "python",
   "name": "python3"
  },
  "language_info": {
   "codemirror_mode": {
    "name": "ipython",
    "version": 3
   },
   "file_extension": ".py",
   "mimetype": "text/x-python",
   "name": "python",
   "nbconvert_exporter": "python",
   "pygments_lexer": "ipython3",
   "version": "3.6.5"
  }
 },
 "nbformat": 4,
 "nbformat_minor": 2
}
