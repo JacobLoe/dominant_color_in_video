{
 "cells": [
  {
   "cell_type": "code",
   "execution_count": 188,
   "metadata": {},
   "outputs": [],
   "source": [
    "#libraries\n",
    "import cv2\n",
    "import numpy as np\n",
    "from scipy.spatial.distance import euclidean"
   ]
  },
  {
   "cell_type": "code",
   "execution_count": 7,
   "metadata": {},
   "outputs": [],
   "source": [
    "#read video file frame by frame\n",
    "def read_video(video,skip_frames):\n",
    "    vid = cv2.VideoCapture(video)\n",
    "    frames=[]\n",
    "    vid_length=0\n",
    "    while(vid.isOpened()):\n",
    "        # Capture frame-by-frame\n",
    "        ret, frame = vid.read() # if ret is false, frame has no content\n",
    "        # resize the video to a different resolution\n",
    "        if ret:\n",
    "            frame=cv2.resize(frame,(640,360))\n",
    "        # skip every \"skip_frame\"\n",
    "        if vid_length%skip_frames==0:\n",
    "            frames.append(frame) #add the individual frames to a list\n",
    "            vid_length+=1 #increase the vid_length counter\n",
    "        if ret:\n",
    "            # Display the resulting frame\n",
    "#             cv2.imshow('frame',frame)\n",
    "            if cv2.waitKey(1) & 0xFF == ord('q'):\n",
    "                break\n",
    "        else:\n",
    "            break\n",
    "    vid.release()\n",
    "    cv2.destroyAllWindows()\n",
    "    return frames"
   ]
  },
  {
   "cell_type": "code",
   "execution_count": 8,
   "metadata": {},
   "outputs": [
    {
     "data": {
      "text/plain": [
       "1"
      ]
     },
     "execution_count": 8,
     "metadata": {},
     "output_type": "execute_result"
    }
   ],
   "source": [
    "frames=read_video('IMG_2525.MOV',2)\n",
    "len(frames)"
   ]
  },
  {
   "cell_type": "markdown",
   "metadata": {},
   "source": [
    "Dominant Color Extractor"
   ]
  },
  {
   "cell_type": "code",
   "execution_count": 179,
   "metadata": {},
   "outputs": [],
   "source": [
    "def dominant3(image,rgb_to_color):\n",
    "    #bins dict for histograms\n",
    "    bins={}\n",
    "    rgb_list=[]\n",
    "    \n",
    "    #fill the bins dict \n",
    "    for rgb in rgb_to_color:\n",
    "        bins[rgb_to_color[rgb]]=0\n",
    "    #map the values of the dict to a list\n",
    "    for rgb in rgb_to_color:\n",
    "        rgb_list.append(rgb)\n",
    "    #flatten the image to 1d \n",
    "    img = image.reshape((image.shape[0] * image.shape[1], 3))     \n",
    "    \n",
    "    #distance between colors and img\n",
    "    for pixel in img:\n",
    "        bin_aux=[]\n",
    "        #get the euclidean distance between the colors and the current pixel\n",
    "        for rgb in rgb_list:\n",
    "            bin_aux.append(euclidean(pixel,rgb))\n",
    "        # get the index of the color in rgb_list,which has the smallest distance\n",
    "        min_pos = np.argmin(bin_aux)\n",
    "        bins[rgb_to_color[rgb_list[min_pos]]]+=1\n",
    "        \n",
    "#         if euclidean(pixel,rgb_list[0])<(euclidean(pixel,rgb_list[1])):\n",
    "#             if (euclidean(pixel,rgb_list[0])<euclidean(pixel,rgb_list[2])):\n",
    "#                 color_key=rgb_to_color[rgb_list[0]]\n",
    "#                 bins[color_key]=0\n",
    "#                 bins[color_key]+=1\n",
    "#             elif(euclidean(pixel,rgb_list[2])<euclidean(pixel,rgb_list[1])):\n",
    "#                 color_key=rgb_to_color[rgb_list[2]]\n",
    "#                 bins[color_key]=0\n",
    "                \n",
    "#                 bins[color_key]+=1\n",
    "#             else:\n",
    "#                 color_key=rgb_to_color[rgb_list[1]]\n",
    "#                 bins[color_key]=0\n",
    "                \n",
    "#                 bins[color_key]+=1\n",
    "    return bins"
   ]
  },
  {
   "cell_type": "code",
   "execution_count": 189,
   "metadata": {},
   "outputs": [
    {
     "data": {
      "text/plain": [
       "45"
      ]
     },
     "execution_count": 189,
     "metadata": {},
     "output_type": "execute_result"
    }
   ],
   "source": [
    "#read the file with colors and there rgb-values into a dictionary\n",
    "rgb_to_color = {}\n",
    "with open(\"colors\") as f:\n",
    "    for line in f:\n",
    "        #split lines at \"::\n",
    "        color, rgb = line.strip().split(':')\n",
    "        #strip the rgb-string of the parenthesis, split it up a the commas,\n",
    "        #cast them to int and put them into a tuples\n",
    "        rgb_value=tuple(map(int,\n",
    "                            (rgb.strip('(').strip(')').split(','))))\n",
    "        rgb_to_color[rgb_value] = color\n",
    "len(rgb_to_color)\n",
    "#purple is median purple\n",
    "#skin is caucasian "
   ]
  },
  {
   "cell_type": "code",
   "execution_count": null,
   "metadata": {},
   "outputs": [
    {
     "name": "stdout",
     "output_type": "stream",
     "text": [
      "(45, 3)\n",
      "(230400, 3)\n"
     ]
    }
   ],
   "source": [
    "bins=dominant3(frames[0],rgb_to_color)\n",
    "print(len(bins))\n",
    "print(bins)\n",
    "print(np.shape(frames[0]))"
   ]
  },
  {
   "cell_type": "markdown",
   "metadata": {},
   "source": [
    "3. histogram"
   ]
  }
 ],
 "metadata": {
  "kernelspec": {
   "display_name": "Python 3",
   "language": "python",
   "name": "python3"
  },
  "language_info": {
   "codemirror_mode": {
    "name": "ipython",
    "version": 3
   },
   "file_extension": ".py",
   "mimetype": "text/x-python",
   "name": "python",
   "nbconvert_exporter": "python",
   "pygments_lexer": "ipython3",
   "version": "3.6.4"
  }
 },
 "nbformat": 4,
 "nbformat_minor": 2
}
