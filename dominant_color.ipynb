{
 "cells": [
  {
   "cell_type": "code",
   "execution_count": 3,
   "metadata": {},
   "outputs": [],
   "source": [
    "#libraries\n",
    "import cv2\n",
    "import numpy as np\n",
    "import pandas as pd\n",
    "from scipy.spatial.distance import euclidean\n",
    "from sklearn.neighbors import KDTree\n",
    "import time\n",
    "import argparse\n",
    "import json\n",
    "import xml.etree.ElementTree as ET\n",
    "from tqdm import tqdm\n",
    "import zipfile\n",
    "from skimage.color import rgb2hsv,rgb2lab"
   ]
  },
  {
   "cell_type": "code",
   "execution_count": 4,
   "metadata": {},
   "outputs": [],
   "source": [
    "#read video file frame by frame, beginning and ending with a timestamp\n",
    "def read_video_segments(video,start_frame,end_frame,resolution_width=200):\n",
    "    resolution_height=int(round(resolution_width * 9/16))\n",
    "    resolution=(resolution_width,resolution_height)\n",
    "    vid = cv2.VideoCapture(video)\n",
    "    frames=[]\n",
    "    vid_length=0\n",
    "    with tqdm(total=end_frame-start_frame) as pbar: #init the progressbar,with max lenght of the given segment\n",
    "        while(vid.isOpened()):\n",
    "            # Capture frame-by-frame\n",
    "            ret, frame = vid.read() # if ret is false, frame has no content\n",
    "            if not ret:\n",
    "                break\n",
    "            # skip every \"skip_frame\"\n",
    "            if vid_length>=start_frame:\n",
    "                # resize the video to a different resolution\n",
    "                frame=cv2.resize(frame,resolution)\n",
    "                frames.append(frame) #add the individual frames to a list\n",
    "                pbar.update() #update the progressbar\n",
    "            if vid_length==end_frame:\n",
    "                pbar.update()\n",
    "                break\n",
    "            vid_length+=1 #increase the vid_length counter\n",
    "    vid.release()\n",
    "    cv2.destroyAllWindows()\n",
    "    return frames"
   ]
  },
  {
   "cell_type": "code",
   "execution_count": 5,
   "metadata": {},
   "outputs": [],
   "source": [
    "def extract_dominant_colors(frame_list):\n",
    "    print(str(len(frame_list))+' frames to process.')\n",
    "#     start=time.time()\n",
    "    rgb_to_color=fn_rgb_to_color() #get the color dict \n",
    "    bins={} #a dict with an entry for each for histograms \n",
    "    for rgb in rgb_to_color: #init the dict with zeros for every key\n",
    "        bins[rgb_to_color[rgb]]=0\n",
    "        \n",
    "    rgb_list=[] #create a list of the rgb_values\n",
    "    for rgb in rgb_to_color: #map the values of the dict to a list\n",
    "        rgb_list.append(rgb)\n",
    "    i = 0\n",
    "\n",
    "    kdt = KDTree(rgb_list, leaf_size=30, metric='euclidean')  \n",
    "    for image in tqdm(frame_list): #traverse the video\n",
    "        #flatten the image to 1d \n",
    "        img = image.reshape((image.shape[0] * image.shape[1], 3))     \n",
    "        nns = kdt.query(img, k=1, return_distance=False)\n",
    "        for nn in nns:\n",
    "            bins[rgb_to_color[rgb_list[nn[0]]]]+=1\n",
    "        i+=1\n",
    "#         end=time.time()\n",
    "#         print('Finished '+str(i)+',time: '+str(end-start))\n",
    "        norm_factor = len(frame_list)* np.shape(frame_list[0])[0] * np.shape(frame_list[0])[1]#normalize the bins\n",
    "        bins_norm={k:v/norm_factor for k,v in bins.items()}\n",
    "    return bins_norm"
   ]
  },
  {
   "cell_type": "code",
   "execution_count": 6,
   "metadata": {},
   "outputs": [],
   "source": [
    "def bins_to_df(bins,bin_threshold=5,colors_to_return=5):\n",
    "    #create a dataframe, sorted descending by count\n",
    "    bins_sorted=sorted(zip(list(bins.values()),list(bins.keys())),reverse=True)\n",
    "    df=pd.DataFrame(bins_sorted,columns=['count','color'])\n",
    "    df.set_index('color',inplace=True) #set the colors as the index of the dataframe\n",
    "    bin_threshold=bin_threshold/100 #scale the percentage to 0-1\n",
    "    df = df[df>bin_threshold].dropna() #kick bins from the dataframe with precentage lower than bin_threshold \n",
    "    return df.head(colors_to_return)#return the color_return highest bins, default 5, if less bins then\n",
    "                                    #color_return are there return all"
   ]
  },
  {
   "cell_type": "code",
   "execution_count": 19,
   "metadata": {},
   "outputs": [],
   "source": [
    "def fn_rgb_to_color(*path):\n",
    "    if not ('no'):\n",
    "        path=str(path)[2:-3] #to get rid of the of the *args things\n",
    "        rgb_to_color = {}\n",
    "        with open(path) as f:\n",
    "            for line in f:\n",
    "                #split lines at \"::\n",
    "                color, rgb = line.strip().split(':')\n",
    "                #strip the rgb-string of the parenthesis, split it up a the commas,\n",
    "                #cast them to int and put them into a tuples\n",
    "                rgb_value=tuple(map(int,(rgb.strip('(').strip(')').split(','))))\n",
    "                rgb_to_color[rgb_value] = color\n",
    "    else:\n",
    "        colors={'darkred':(139,0,0),\n",
    "        'firebrick':(178,34,34),\n",
    "        'crimson':(220,20,60),\n",
    "        'red':(255,0,0),\n",
    "        'tomato':(255,99,71),\n",
    "        'salmon':(250,128,114),\n",
    "        'darkorange':(255,140,0),\n",
    "        'gold':(255,215,0),\n",
    "        'darkkhaki':(189,183,107),\n",
    "        'yellow':(255,255,0),\n",
    "        'darkolivegreen':(85,107,47),\n",
    "        'olivedrab':(107,142,35),\n",
    "        'greenyellow':(173,255,47),\n",
    "        'darkgreen':(0,100,0),\n",
    "        'aquamarine':(127,255,212),\n",
    "        'steelblue':(70,130,180),\n",
    "        'skyblue':(135,206,235),\n",
    "        'darkblue':(0,0,139),\n",
    "        'blue':(0,0,255),\n",
    "        'royalblue':(65,105,225),\n",
    "        'purple':(128,0,128),\n",
    "        'violet':(238,130,238),\n",
    "        'deeppink':(255,20,147),\n",
    "        'pink':(255,192,203),\n",
    "        'antiquewhite':(250,235,215),\n",
    "        'saddlebrown':(139,69,19),\n",
    "        'sandybrown':(244,164,96),\n",
    "        'ivory':(255,255,240),\n",
    "        'dimgrey':(105,105,105),\n",
    "        'grey':(28,128,128),\n",
    "        'silver':(192,192,192),\n",
    "        'lightgrey':(211,211,211),\n",
    "        'black':(0,0,0),\n",
    "        'white':(255,255,255),\n",
    "        'darkcyan':(0,139,139),\n",
    "        'cyan':(0,255,255),\n",
    "        'green':(0,128,0),\n",
    "        'khaki':(240,230,140),\n",
    "        'goldenrod':(218,165,32),\n",
    "        'orange':(255,165,0),\n",
    "        'coral':(255,127,80),\n",
    "        'magenta':(255,0,255),\n",
    "        'wheat':(245,222,179),\n",
    "        'skin':(255,224,189),\n",
    "        'purple4':(147,112,219)}\n",
    "        colors_aux={}\n",
    "        if target_colorspace=='HSV':\n",
    "            print('HSV')\n",
    "            for color in colors:\n",
    "                colors_aux[color]=tuple(rgb2hsv(np.array((colors[color]),dtype='float').reshape(1,1,3)).reshape(3))\n",
    "            colors=colors_aux\n",
    "        if target_colorspace=='cie-lab':\n",
    "            print('cie-lab')\n",
    "            for color in colors:\n",
    "                a=np.array((colors[color]),dtype='float')\n",
    "                b=a.reshape(1,1,3)\n",
    "                c=rgb2lab(b)\n",
    "                d=c.reshape(3)\n",
    "#                 print('a',a)\n",
    "#                 print('b',b)\n",
    "#                 print('c',c)\n",
    "#                 print('d',d)\n",
    "#                 print(tuple(d))\n",
    "                colors_aux[color]=tuple(rgb2lab(np.array((colors[color]),dtype='float').reshape(1,1,3)).reshape(3))\n",
    "#                 break\n",
    "            colors=colors_aux\n",
    "        rgb_to_color={}\n",
    "        for color in colors:\n",
    "            rgb_to_color[colors[color]]=color\n",
    "        #purple4 is median purple\n",
    "        #skin is caucasian        \n",
    "    return rgb_to_color"
   ]
  },
  {
   "cell_type": "code",
   "execution_count": 20,
   "metadata": {},
   "outputs": [
    {
     "name": "stdout",
     "output_type": "stream",
     "text": [
      "cie-lab\n"
     ]
    },
    {
     "data": {
      "text/plain": [
       "{(0.0, 0.0, 0.0): 'black',\n",
       " (2382.03511475866, 3931.8186807256197, -5355.461049445856): 'darkblue',\n",
       " (3422.0173716831, 3976.8401048507035, 3336.832230589293): 'darkred',\n",
       " (3531.9180474071254, 4566.389052469304, -2827.2807089755174): 'purple',\n",
       " (3879.949546944945, 6387.7993752332, -8700.709143439593): 'blue',\n",
       " (3942.355513775884, -3288.5982918544487, 3173.996442116492): 'darkgreen',\n",
       " (4029.823014502765, 2340.3076540279208, 3428.7253214861585): 'saddlebrown',\n",
       " (4269.292361995943, 4621.780606270402, 3381.3919767980274): 'firebrick',\n",
       " (4405.928475991283, -1592.334528569925, 2610.4264406308353): 'darkolivegreen',\n",
       " (4586.453434393569, -0.09740290684945307, 0.18463063941425162): 'dimgrey',\n",
       " (4806.1530740596045, -4006.2405479304707, 3866.630131411906): 'green',\n",
       " (4917.515412082188, 2388.697618908271, -5540.926899705983): 'royalblue',\n",
       " (4974.885812398725, -2158.2854609097344, -637.9564755206843): 'grey',\n",
       " (4989.691273730922, 5758.101688939597, 3120.4117416516974): 'crimson',\n",
       " (5295.6168387934495, -268.0414364141015, -2738.5024992381673): 'steelblue',\n",
       " (5302.519123358406, -2387.8524168228914, -701.4176043540531): 'darkcyan',\n",
       " (5480.24519379809, -2356.16790148482, 4122.847608420375): 'olivedrab',\n",
       " (5511.860713686604, 3166.529502909647, -4268.243157262371): 'purple4',\n",
       " (5569.54882668832, 6460.94309020361, 5421.159155254485): 'red',\n",
       " (5746.394870640582, 6861.128114306677, -238.68662697472587): 'deeppink',\n",
       " (6140.918723441472, 7924.333617630548, -4906.352768277106): 'magenta',\n",
       " (6177.307464592814, 4921.643936714738, 4038.7692794748177): 'tomato',\n",
       " (6579.236791389241, 3867.2155889606047, 2533.5222964434392): 'salmon',\n",
       " (6587.586814683875, 3895.0317124648777, 4091.648832080547): 'coral',\n",
       " (6775.7096017013355, 3226.4803521109366, 6025.85298852041): 'darkorange',\n",
       " (6782.074604566451, 4779.898195932542, -3107.323473135595): 'violet',\n",
       " (6868.020618021074, 808.7070294800399, 5670.031309689695): 'goldenrod',\n",
       " (7075.582104381405, -728.928035750588, 3347.896357718757): 'darkkhaki',\n",
       " (7134.806829913583, 2003.7400797189234, 3997.928662165744): 'sandybrown',\n",
       " (7230.051823134284, 2137.6199433609527, 6310.5224790188495): 'orange',\n",
       " (7441.55587662318, -0.15782617482784644, 0.2991650713283889): 'silver',\n",
       " (7576.506979704421, -1236.809363259532, -1804.1959970745238): 'skyblue',\n",
       " (7947.835396500196, 2060.186723474189, 290.7761463145988): 'pink',\n",
       " (8026.156824709292, -0.17019823518893418, 0.3226167473485475): 'lightgrey',\n",
       " (8243.149359401874, -65.70806020965136, 6997.727318807176): 'gold',\n",
       " (8436.22613427434, 136.19460553748297, 2046.8470206693567): 'wheat',\n",
       " (8520.967518790261, -748.1231558039453, 3824.9708823401847): 'khaki',\n",
       " (8567.686298361248, 477.5327295724807, 1797.9849648304735): 'skin',\n",
       " (8624.691723628723, -3879.4063040352003, -1139.5527868145537): 'cyan',\n",
       " (8671.685565581267, -4388.848024979737, 6772.839345899045): 'greenyellow',\n",
       " (8675.974754447634, -3836.5769884004167, 846.8105427500802): 'aquamarine',\n",
       " (8808.342570086208, 158.29162358839, 982.3127433029015): 'antiquewhite',\n",
       " (9110.817948328156, -1738.7882864556516, 7621.42813486568): 'yellow',\n",
       " (9310.994888528123, -216.92848015697308, 609.889083200531): 'ivory',\n",
       " (9341.57022199546, -0.19803666754114602, 0.3753854760475406): 'white'}"
      ]
     },
     "execution_count": 20,
     "metadata": {},
     "output_type": "execute_result"
    }
   ],
   "source": [
    "# target_colorspace='dsf'\n",
    "target_colorspace='cie-lab'\n",
    "# target_colorspace='HSV'\n",
    "fn_rgb_to_color()"
   ]
  },
  {
   "cell_type": "code",
   "execution_count": 63,
   "metadata": {},
   "outputs": [],
   "source": [
    "def read_azp(azp_path):\n",
    "    #extract the .azp-file to /tmp\n",
    "    zip_ref = zipfile.ZipFile(azp_path)\n",
    "    zip_ref.extractall('/tmp')\n",
    "    #read the .xml-file\n",
    "    tree = ET.parse('/tmp/content.xml')\n",
    "    root = tree.getroot().findall('./{http://experience.univ-lyon1.fr/advene/ns}annotations')\n",
    "    #traverse the .xml-file\n",
    "    with open(args.output_path,'w') as file:\n",
    "            if args.what_to_process=='scene':\n",
    "                segment_list=[]\n",
    "            for child in root[0].iter():\n",
    "                if child.get('type')=='#Shot': #whenever a shot annotation is found, extract the timestamp from the xml\n",
    "                    dominant_colors_list=[]\n",
    "                    for child2 in child:\n",
    "                        if child2.tag=='{http://experience.univ-lyon1.fr/advene/ns}millisecond-fragment':\n",
    "                            end=int(child2.get('end'))/1000*25\n",
    "                            begin=int(child2.get('begin'))/1000*25\n",
    "                            if args.what_to_process=='scene': #if 'scene' is selected append the frames of the segments to a list\n",
    "                                segment_list.append(read_video_segments(args.video_path,begin,end,args.resolution_width))\n",
    "                            if args.what_to_process=='segment': #if 'segment' is selected run extract_dominant_colors on the segment\n",
    "                                segment = read_video_segments(args.video_path,begin,end,args.resolution_width)\n",
    "                                colors_df = bins_to_df(extract_dominant_colors(segment),args.bin_threshold,args.colors_to_return)\n",
    "                                colors_list = [(color,perc) for color,perc in zip(colors_df.index.values,colors_df.values.tolist())]\n",
    "                                print(begin,end,colors_list)\n",
    "                                file.write((begin,end,colors_list)+'\\n') #write the timestamp and the extracted colors to file\n",
    "            if args.what_to_process=='scene': #if 'scene' is selected run extract_dominant_colors on the the list of segments\n",
    "                colors_df = bins_to_df(extract_dominant_colors(segment_list),args.bin_threshold,args.colors_to_return)\n",
    "                colors_list = [(color,perc) for color,perc in zip(colors_df.index.values,colors_df.values.tolist())]\n",
    "                print(colors_list)\n",
    "                file.write(colors_list+'\\n') #write the extracted colors to file\n",
    "            file.close()"
   ]
  },
  {
   "cell_type": "code",
   "execution_count": 7,
   "metadata": {},
   "outputs": [],
   "source": [
    "def read_azp2(azp_path):\n",
    "    #extract the .azp-file to /tmp\n",
    "    zip_ref = zipfile.ZipFile(azp_path)\n",
    "    zip_ref.extractall('/tmp')\n",
    "    #read the .xml-file\n",
    "    tree = ET.parse('/tmp/content.xml')\n",
    "    root = tree.getroot().findall('./{http://experience.univ-lyon1.fr/advene/ns}annotations')\n",
    "    #traverse the .xml-file\n",
    "    for child in root[0].iter():\n",
    "        if child.get('type')=='#Shot': #whenever a shot annotation is found, extract the timestamp from the xml\n",
    "            for child2 in child:\n",
    "                if child2.tag=='{http://experience.univ-lyon1.fr/advene/ns}millisecond-fragment':\n",
    "                    end=round(int(child2.get('end'))/1000*25)\n",
    "                    begin=round(int(child2.get('begin'))/1000*25)\n",
    "                    print(begin,end)"
   ]
  },
  {
   "cell_type": "code",
   "execution_count": 8,
   "metadata": {},
   "outputs": [
    {
     "name": "stdout",
     "output_type": "stream",
     "text": [
      "33020 33112\n",
      "33112 33242\n",
      "33242 33268\n",
      "33268 33320\n",
      "33320 33386\n",
      "33386 33428\n",
      "33428 33532\n",
      "33532 33572\n",
      "33572 33714\n",
      "33714 33768\n",
      "33768 33806\n",
      "33806 33864\n",
      "33864 33922\n",
      "33922 34006\n",
      "34006 34056\n",
      "34056 34116\n",
      "34116 34154\n",
      "34154 34190\n",
      "34190 34248\n",
      "34248 34408\n",
      "34408 34452\n",
      "34452 34504\n",
      "34504 34692\n",
      "34692 34906\n",
      "34906 35070\n",
      "35070 35150\n",
      "35150 35280\n",
      "35280 35746\n",
      "35746 36126\n",
      "36126 36256\n",
      "36256 36302\n",
      "36302 36466\n",
      "36466 36524\n",
      "36524 36558\n",
      "36558 36616\n",
      "36616 36798\n",
      "36798 36856\n",
      "36856 36916\n",
      "36916 36956\n",
      "36956 37008\n",
      "37008 37036\n",
      "37036 37074\n",
      "37074 37112\n",
      "37112 37134\n",
      "37134 37186\n",
      "37186 37256\n",
      "37256 37286\n",
      "37286 37312\n",
      "37312 37390\n",
      "37390 37556\n"
     ]
    }
   ],
   "source": [
    "read_azp2('CompanyMen_v1.0-split-012-Bobby_being_angry.azp')"
   ]
  },
  {
   "cell_type": "code",
   "execution_count": 8,
   "metadata": {},
   "outputs": [],
   "source": [
    "def azp_path(path):\n",
    "    if path[-4:] == '.azp': #if the path is to a single file\n",
    "        print('exactly')\n",
    "#         read_azp(path)\n",
    "    elif path[0][-4:] == '.azp': #if the path is to several files\n",
    "        print('like')\n",
    "        for azp_path in path:\n",
    "            print(azp_path)\n",
    "#             read_azp(azp_path)\n",
    "    else: #else it is assumed the path points to a directory\n",
    "        directory_content = os.listdir(path)\n",
    "        azp_list=[]\n",
    "        for elem in directory_content:\n",
    "            if elem[-4:]=='.azp':\n",
    "                if path[-1]=='/': #if the path ends with an '/', add the .azp-file\n",
    "                    azp_list.append(path+elem)    \n",
    "                else: #else, add a '/' and then the .azp-file\n",
    "                    azp_list.append(path+'/'+elem)\n",
    "        for azp_path in azp_list:\n",
    "#             read_azp(azp_path)\n",
    "            print(azp_path)\n",
    "        print('planned')"
   ]
  },
  {
   "cell_type": "code",
   "execution_count": 9,
   "metadata": {},
   "outputs": [],
   "source": [
    "def change_colorspace(frame_list,*target_colorspace):\n",
    "    changed_frame_list=[]\n",
    "    if target_colorspace=='HSV':\n",
    "        for frame in frame_list:\n",
    "            changed_frame_list.append(rgb2hsv(frame))\n",
    "        return changed_frame_list\n",
    "    if target_colorspace=='cie-lab':\n",
    "        for frame in frame_list:\n",
    "            changed_frame_list.append(rgb2lab(frame))\n",
    "        return changed_frame_list\n",
    "    else:\n",
    "        return frame_list"
   ]
  },
  {
   "cell_type": "code",
   "execution_count": 10,
   "metadata": {},
   "outputs": [],
   "source": [
    "#extract the .azp-file to /tmp\n",
    "zip_ref = zipfile.ZipFile('CompanyMen_v1.0-split-012-Bobby_being_angry.azp')\n",
    "zip_ref.extractall('/tmp')\n",
    "#read the .xml-file\n",
    "tree = ET.parse('/tmp/content.xml')\n",
    "root = tree.getroot().findall('./{http://experience.univ-lyon1.fr/advene/ns}annotations')"
   ]
  },
  {
   "cell_type": "code",
   "execution_count": 15,
   "metadata": {},
   "outputs": [
    {
     "data": {
      "text/plain": [
       "50"
      ]
     },
     "execution_count": 15,
     "metadata": {},
     "output_type": "execute_result"
    }
   ],
   "source": [
    "#traverse the .xml-file\n",
    "colors=[]\n",
    "for child in root[0].iter():\n",
    "    if child.get('type')=='#ColourRange': #whenever a shot annotation is found, extract the timestamp from the xml\n",
    "        for child2 in child:\n",
    "            if child2.tag=='{http://experience.univ-lyon1.fr/advene/ns}content':\n",
    "                colors.append(child2.text)\n",
    "len(colors)"
   ]
  },
  {
   "cell_type": "code",
   "execution_count": 22,
   "metadata": {},
   "outputs": [],
   "source": [
    "# error\n",
    "colors_target=[['red','black','green','white'],['grey','orange','violet','crimson','blue','yellow'],['magenta','purple']]\n",
    "colors_pred=[['red','black','green','white'],['orange','violet','crimson','blue','yellow'],['pink','brown']]"
   ]
  },
  {
   "cell_type": "code",
   "execution_count": 23,
   "metadata": {},
   "outputs": [
    {
     "data": {
      "text/plain": [
       "1.0"
      ]
     },
     "execution_count": 23,
     "metadata": {},
     "output_type": "execute_result"
    }
   ],
   "source": [
    "len(colors_target[0])/len(list(set(colors_target[0]) & set(colors_pred[0])))"
   ]
  },
  {
   "cell_type": "code",
   "execution_count": 24,
   "metadata": {},
   "outputs": [],
   "source": [
    "def color_accuracy(colors_target,colors_predictions,*thing):\n",
    "    acc=[]\n",
    "    tl=0\n",
    "    pl=0\n",
    "    if thing:\n",
    "        for target,pred in zip(colors_target,colors_predictions):\n",
    "            acc.append(len(list(set(target) & set(pred)))/len(target))\n",
    "        return acc\n",
    "    for target,pred in zip(colors_target,colors_predictions):\n",
    "        tl+=len(target)\n",
    "        pl+=len(list(set(target) & set(pred)))\n",
    "    return pl/tl"
   ]
  },
  {
   "cell_type": "code",
   "execution_count": 25,
   "metadata": {},
   "outputs": [
    {
     "data": {
      "text/plain": [
       "[1.0, 0.8333333333333334, 0.0]"
      ]
     },
     "execution_count": 25,
     "metadata": {},
     "output_type": "execute_result"
    }
   ],
   "source": [
    "# acc\n",
    "color_accuracy(colors_target,colors_pred,True)"
   ]
  },
  {
   "cell_type": "code",
   "execution_count": 34,
   "metadata": {},
   "outputs": [],
   "source": [
    "def read_prediction_txt_file(txt_file):\n",
    "    colors_list=[]\n",
    "    with open(txt_file) as file:\n",
    "        for line in file:\n",
    "            line=line.split()\n",
    "            line=line[2].strip('[').strip(']')\n",
    "            line=line.split(',')\n",
    "            line=[entry.strip(\"'\") for entry in line]\n",
    "            colors_list.append(line)\n",
    "    return colors_list"
   ]
  },
  {
   "cell_type": "code",
   "execution_count": 35,
   "metadata": {},
   "outputs": [
    {
     "data": {
      "text/plain": [
       "[['red', 'black', 'white', 'green'],\n",
       " ['yellow', 'blue', 'purple', 'violet'],\n",
       " ['crimson', 'black', 'grey', 'brown']]"
      ]
     },
     "execution_count": 35,
     "metadata": {},
     "output_type": "execute_result"
    }
   ],
   "source": [
    "read_prediction_txt_file('dominant_colors.txt')"
   ]
  },
  {
   "cell_type": "code",
   "execution_count": 36,
   "metadata": {},
   "outputs": [],
   "source": [
    "colors_target=[['red','black','green','white'],['grey','orange','blue','yellow'],['magenta','purple','violet','crimson']]"
   ]
  },
  {
   "cell_type": "code",
   "execution_count": 37,
   "metadata": {},
   "outputs": [
    {
     "data": {
      "text/plain": [
       "0.5833333333333334"
      ]
     },
     "execution_count": 37,
     "metadata": {},
     "output_type": "execute_result"
    }
   ],
   "source": [
    "color_accuracy(colors_target,read_prediction_txt_file('dominant_colors.txt'))"
   ]
  },
  {
   "cell_type": "code",
   "execution_count": null,
   "metadata": {},
   "outputs": [],
   "source": []
  }
 ],
 "metadata": {
  "kernelspec": {
   "display_name": "Python 3",
   "language": "python",
   "name": "python3"
  },
  "language_info": {
   "codemirror_mode": {
    "name": "ipython",
    "version": 3
   },
   "file_extension": ".py",
   "mimetype": "text/x-python",
   "name": "python",
   "nbconvert_exporter": "python",
   "pygments_lexer": "ipython3",
   "version": "3.6.5"
  }
 },
 "nbformat": 4,
 "nbformat_minor": 2
}
