{
 "cells": [
  {
   "cell_type": "code",
   "execution_count": 57,
   "metadata": {},
   "outputs": [],
   "source": [
    "#libraries\n",
    "import cv2\n",
    "import numpy as np\n",
    "import pandas as pd\n",
    "from scipy.spatial.distance import euclidean\n",
    "from sklearn.neighbors import KDTree\n",
    "import time\n",
    "import argparse\n",
    "import json"
   ]
  },
  {
   "cell_type": "markdown",
   "metadata": {},
   "source": [
    "can I start from specific timestamps ?\n",
    "\n",
    "what happens for skip_frames=0 ?"
   ]
  },
  {
   "cell_type": "code",
   "execution_count": 2,
   "metadata": {},
   "outputs": [],
   "source": [
    "#read video file frame by frame, beginning and ending with a timestamp\n",
    "def read_video_segments(video,start_frame,end_frame,resolution_width=200):\n",
    "    resolution_height=int(round(resolution_width * 9/16))\n",
    "    resolution=(resolution_width,resolution_height)\n",
    "    vid = cv2.VideoCapture(video)\n",
    "    frames=[]\n",
    "    vid_length=0\n",
    "    while(vid.isOpened()):\n",
    "        # Capture frame-by-frame\n",
    "        ret, frame = vid.read() # if ret is false, frame has no content\n",
    "        if not ret:\n",
    "            break\n",
    "        # skip every \"skip_frame\"\n",
    "        if vid_length>=start_frame:\n",
    "            # resize the video to a different resolution\n",
    "            frame=cv2.resize(frame,resolution)\n",
    "            frames.append(frame) #add the individual frames to a list\n",
    "        if vid_length==end_frame:\n",
    "            break\n",
    "        vid_length+=1 #increase the vid_length counter\n",
    "    vid.release()\n",
    "    cv2.destroyAllWindows()\n",
    "    return frames"
   ]
  },
  {
   "cell_type": "markdown",
   "metadata": {},
   "source": [
    "Dominant Color Extractor\n",
    "\n",
    "- add better comments"
   ]
  },
  {
   "cell_type": "code",
   "execution_count": 3,
   "metadata": {},
   "outputs": [],
   "source": [
    "def extract_dominant_color(frame_list):\n",
    "    print(str(len(frame_list))+' frames to process.')\n",
    "    start=time.time()\n",
    "    rgb_to_color=fn_rgb_to_color() #get the color dict \n",
    "    bins={} #a dict with an entry for each for histograms \n",
    "    for rgb in rgb_to_color: #init the dict with zeros for every key\n",
    "        bins[rgb_to_color[rgb]]=0\n",
    "        \n",
    "    rgb_list=[] #create a list of the rgb_values\n",
    "    for rgb in rgb_to_color: #map the values of the dict to a list\n",
    "        rgb_list.append(rgb)\n",
    "    i = 0\n",
    "\n",
    "    kdt = KDTree(rgb_list, leaf_size=30, metric='euclidean')  \n",
    "    for image in frame_list: #traverse the video\n",
    "        #flatten the image to 1d \n",
    "        img = image.reshape((image.shape[0] * image.shape[1], 3))     \n",
    "        nns = kdt.query(img, k=1, return_distance=False)\n",
    "        for nn in nns:\n",
    "            bins[rgb_to_color[rgb_list[nn[0]]]]+=1\n",
    "#        for pixel in img: # do nearest neighbour search on every pixel every color in the list\n",
    "#            bin_aux=[]\n",
    "#            #get the euclidean distance between the colors and the current pixel\n",
    "#            for rgb in rgb_list:\n",
    "#                bin_aux.append(euclidean(pixel,rgb))\n",
    "#            # get the index of the color,which has the smallest distance, in rgb_list\n",
    "#            min_pos = np.argmin(bin_aux)\n",
    "#            #increment the respective color \n",
    "#            bins[rgb_to_color[rgb_list[min_pos]]]+=1\n",
    "        i+=1\n",
    "        end=time.time()\n",
    "        print('Finished '+str(i)+',time: '+str(end-start))\n",
    "        norm_factor = len(frame_list)* np.shape(frame_list[0])[0] * np.shape(frame_list[0])[1]#normalize the bins\n",
    "        bins_norm={k:v/norm_factor for k,v in bins.items()}\n",
    "    return bins_norm"
   ]
  },
  {
   "cell_type": "code",
   "execution_count": 4,
   "metadata": {},
   "outputs": [],
   "source": [
    "def bins_to_df(bins,bin_threshold=5,colors_to_return=5):\n",
    "    #create a dataframe, sorted descending by count\n",
    "    bins_sorted=sorted(zip(list(bins.values()),list(bins.keys())),reverse=True)\n",
    "    df=pd.DataFrame(bins_sorted,columns=['count','color'])\n",
    "    df.set_index('color',inplace=True) #set the colors as the index of the dataframe\n",
    "    bin_threshold=bin_threshold/100 #scale the percentage to 0-1\n",
    "    df = df[df>bin_threshold].dropna() #kick bins from the dataframe with precentage lower than bin_threshold \n",
    "    return df.head(colors_to_return)#return the color_return highest bins, default 5, if less bins then\n",
    "                                    #color_return are there return all"
   ]
  },
  {
   "cell_type": "code",
   "execution_count": 54,
   "metadata": {},
   "outputs": [],
   "source": [
    "def fn_rgb_to_color(path):\n",
    "    if not ('no'):\n",
    "        path=str(path)[2:-3] #to get rid of the of the *args things\n",
    "        rgb_to_color = {}\n",
    "        with open(path) as f:\n",
    "            for line in f:\n",
    "                #split lines at \"::\n",
    "                color, rgb = line.strip().split(':')\n",
    "                #strip the rgb-string of the parenthesis, split it up a the commas,\n",
    "                #cast them to int and put them into a tuples\n",
    "                rgb_value=tuple(map(int,(rgb.strip('(').strip(')').split(','))))\n",
    "                rgb_to_color[rgb_value] = color\n",
    "    else:\n",
    "        print('dfd')\n",
    "        colors={'darkred':(139,0,0),\n",
    "        'firebrick':(178,34,34),\n",
    "        'crimson':(220,20,60),\n",
    "        'red':(255,0,0),\n",
    "        'tomato':(255,99,71),\n",
    "        'salmon':(250,128,114),\n",
    "        'darkorange':(255,140,0),\n",
    "        'gold':(255,215,0),\n",
    "        'darkkhaki':(189,183,107),\n",
    "        'yellow':(255,255,0),\n",
    "        'darkolivegreen':(85,107,47),\n",
    "        'olivedrab':(107,142,35),\n",
    "        'greenyellow':(173,255,47),\n",
    "        'darkgreen':(0,100,0),\n",
    "        'aquamarine':(127,255,212),\n",
    "        'steelblue':(70,130,180),\n",
    "        'skyblue':(135,206,235),\n",
    "        'darkblue':(0,0,139),\n",
    "        'blue':(0,0,255),\n",
    "        'royalblue':(65,105,225),\n",
    "        'purple':(128,0,128),\n",
    "        'violet':(238,130,238),\n",
    "        'deeppink':(255,20,147),\n",
    "        'pink':(255,192,203),\n",
    "        'antiquewhite':(250,235,215),\n",
    "        'saddlebrown':(139,69,19),\n",
    "        'sandybrown':(244,164,96),\n",
    "        'ivory':(255,255,240),\n",
    "        'dimgrey':(105,105,105),\n",
    "        'grey':(28,128,128),\n",
    "        'silver':(192,192,192),\n",
    "        'lightgrey':(211,211,211),\n",
    "        'black':(0,0,0),\n",
    "        'white':(255,255,255),\n",
    "        'darkcyan':(0,139,139),\n",
    "        'cyan':(0,255,255),\n",
    "        'green':(0,128,0),\n",
    "        'khaki':(240,230,140),\n",
    "        'goldenrod':(218,165,32),\n",
    "        'orange':(255,165,0),\n",
    "        'coral':(255,127,80),\n",
    "        'magenta':(255,0,255),\n",
    "        'wheat':(245,222,179),\n",
    "        'skin':(255,224,189),\n",
    "        'purple4':(147,112,219)}\n",
    "        rgb_to_color={}\n",
    "        for color in colors:\n",
    "            rgb_to_color[colors[color]]=color\n",
    "        #purple4 is median purple\n",
    "        #skin is caucasian\n",
    "    return rgb_to_color"
   ]
  },
  {
   "cell_type": "code",
   "execution_count": 55,
   "metadata": {},
   "outputs": [],
   "source": [
    "#read the file with colors and there rgb-values into a dictionary\n",
    "def read_color_from_file(path):\n",
    "    rgb_to_color = {}\n",
    "    with open(path) as f:\n",
    "        for line in f:\n",
    "            #split lines at \"::\n",
    "            color, rgb = line.strip().split(':')\n",
    "            #strip the rgb-string of the parenthesis, split it up a the commas,\n",
    "            #cast them to int and put them into a tuples\n",
    "            rgb_value=tuple(map(int,(rgb.strip('(').strip(')').split(','))))\n",
    "            rgb_to_color[rgb_value] = color\n",
    "    return rgb_to_color"
   ]
  },
  {
   "cell_type": "code",
   "execution_count": 56,
   "metadata": {
    "scrolled": true
   },
   "outputs": [
    {
     "name": "stdout",
     "output_type": "stream",
     "text": [
      "dfd\n"
     ]
    },
    {
     "data": {
      "text/plain": [
       "{(0, 0, 0): 'black',\n",
       " (0, 0, 139): 'darkblue',\n",
       " (0, 0, 255): 'blue',\n",
       " (0, 100, 0): 'darkgreen',\n",
       " (0, 128, 0): 'green',\n",
       " (0, 139, 139): 'darkcyan',\n",
       " (0, 255, 255): 'cyan',\n",
       " (28, 128, 128): 'grey',\n",
       " (65, 105, 225): 'royalblue',\n",
       " (70, 130, 180): 'steelblue',\n",
       " (85, 107, 47): 'darkolivegreen',\n",
       " (105, 105, 105): 'dimgrey',\n",
       " (107, 142, 35): 'olivedrab',\n",
       " (127, 255, 212): 'aquamarine',\n",
       " (128, 0, 128): 'purple',\n",
       " (135, 206, 235): 'skyblue',\n",
       " (139, 0, 0): 'darkred',\n",
       " (139, 69, 19): 'saddlebrown',\n",
       " (147, 112, 219): 'purple4',\n",
       " (173, 255, 47): 'greenyellow',\n",
       " (178, 34, 34): 'firebrick',\n",
       " (189, 183, 107): 'darkkhaki',\n",
       " (192, 192, 192): 'silver',\n",
       " (211, 211, 211): 'lightgrey',\n",
       " (218, 165, 32): 'goldenrod',\n",
       " (220, 20, 60): 'crimson',\n",
       " (238, 130, 238): 'violet',\n",
       " (240, 230, 140): 'khaki',\n",
       " (244, 164, 96): 'sandybrown',\n",
       " (245, 222, 179): 'wheat',\n",
       " (250, 128, 114): 'salmon',\n",
       " (250, 235, 215): 'antiquewhite',\n",
       " (255, 0, 0): 'red',\n",
       " (255, 0, 255): 'magenta',\n",
       " (255, 20, 147): 'deeppink',\n",
       " (255, 99, 71): 'tomato',\n",
       " (255, 127, 80): 'coral',\n",
       " (255, 140, 0): 'darkorange',\n",
       " (255, 165, 0): 'orange',\n",
       " (255, 192, 203): 'pink',\n",
       " (255, 215, 0): 'gold',\n",
       " (255, 224, 189): 'skin',\n",
       " (255, 255, 0): 'yellow',\n",
       " (255, 255, 240): 'ivory',\n",
       " (255, 255, 255): 'white'}"
      ]
     },
     "execution_count": 56,
     "metadata": {},
     "output_type": "execute_result"
    }
   ],
   "source": [
    "# read_color_from_file('colors')\n",
    "fn_rgb_to_color()"
   ]
  },
  {
   "cell_type": "code",
   "execution_count": null,
   "metadata": {},
   "outputs": [],
   "source": []
  }
 ],
 "metadata": {
  "kernelspec": {
   "display_name": "Python 3",
   "language": "python",
   "name": "python3"
  },
  "language_info": {
   "codemirror_mode": {
    "name": "ipython",
    "version": 3
   },
   "file_extension": ".py",
   "mimetype": "text/x-python",
   "name": "python",
   "nbconvert_exporter": "python",
   "pygments_lexer": "ipython3",
   "version": "3.6.5"
  }
 },
 "nbformat": 4,
 "nbformat_minor": 2
}
