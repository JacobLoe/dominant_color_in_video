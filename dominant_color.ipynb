{
 "cells": [
  {
   "cell_type": "code",
   "execution_count": 2,
   "metadata": {},
   "outputs": [],
   "source": [
    "#libraries\n",
    "import cv2\n",
    "import numpy as np\n",
    "import pandas as pd\n",
    "from scipy.spatial.distance import euclidean\n",
    "import time"
   ]
  },
  {
   "cell_type": "markdown",
   "metadata": {},
   "source": [
    "can I start from specific timestamps ?\n",
    "\n",
    "what happens for skip_frames=0 ?"
   ]
  },
  {
   "cell_type": "code",
   "execution_count": 3,
   "metadata": {},
   "outputs": [],
   "source": [
    "#read video file frame by frame\n",
    "def read_video(video,skip_frames,resolution_width):\n",
    "    resolution_height=int(resolution_width * 9/16)\n",
    "    resolution=(resolution_width,resolution_height)\n",
    "#     res_dict={'1':(120,90),'2':(240,135),'3':(480,270)}\n",
    "    vid = cv2.VideoCapture(video)\n",
    "    frames=[]\n",
    "    vid_length=0\n",
    "    while(vid.isOpened()):\n",
    "        # Capture frame-by-frame\n",
    "        ret, frame = vid.read() # if ret is false, frame has no content\n",
    "        # resize the video to a different resolution\n",
    "        if ret:\n",
    "            frame=cv2.resize(frame,resolution)\n",
    "        # skip every \"skip_frame\"\n",
    "        if vid_length%skip_frames==0:\n",
    "            frames.append(frame) #add the individual frames to a list\n",
    "        vid_length+=1 #increase the vid_length counter\n",
    "        if not ret:\n",
    "            break\n",
    "    vid.release()\n",
    "    cv2.destroyAllWindows()\n",
    "    return frames"
   ]
  },
  {
   "cell_type": "markdown",
   "metadata": {},
   "source": [
    "Dominant Color Extractor"
   ]
  },
  {
   "cell_type": "code",
   "execution_count": 4,
   "metadata": {},
   "outputs": [],
   "source": [
    "def extract_dominant_color(frame_list,bin_threshold=0.05,colors_to_return=5):\n",
    "    print(str(len(frame_list))+' frames to process.')\n",
    "    start=time.time()\n",
    "    rgb_to_color=fn_rgb_to_color() #get the color dict \n",
    "    bins={} #bins dict for histograms \n",
    "    for rgb in rgb_to_color: #init the dict with zeros for every key\n",
    "        bins[rgb_to_color[rgb]]=0\n",
    "    rgb_list=[] #create a traverseable list of the rgb_values\n",
    "    for rgb in rgb_to_color: #map the values of the dict to a list\n",
    "        rgb_list.append(rgb)\n",
    "    i = 0\n",
    "    for image in frame_list: #traverse the video\n",
    "        #flatten the image to 1d \n",
    "        img = image.reshape((image.shape[0] * image.shape[1], 3))     \n",
    "        for pixel in img: # do nearest neighbour search on every pixel every color in the list\n",
    "            bin_aux=[]\n",
    "            #get the euclidean distance between the colors and the current pixel\n",
    "            for rgb in rgb_list:\n",
    "                bin_aux.append(euclidean(pixel,rgb))\n",
    "            # get the index of the color,which has the smallest distance, in rgb_list\n",
    "            min_pos = np.argmin(bin_aux)\n",
    "            #increment the respective color \n",
    "            bins[rgb_to_color[rgb_list[min_pos]]]+=1\n",
    "        i+=1\n",
    "        end=time.time()\n",
    "        print('Finished '+str(i)+',time: '+str(end-start))\n",
    "    #create a dataframe, sorted descending by count\n",
    "    bins_sorted=sorted(zip(list(bins.values()),list(bins.keys())),reverse=True)\n",
    "    df=pd.DataFrame(bins_sorted,columns=['count','color'])\n",
    "    df.set_index('color',inplace=True) #set the colors as the index of the dataframe\n",
    "    norm_factor = len(frame_list)* np.shape(frame_list[0])[0] * np.shape(frame_list[0])[1]  #normalize the bins\n",
    "    df=df/norm_factor \n",
    "    df = df[df>bin_threshold].dropna() #kick bins from the dataframe with precentage lower than bin_threshold \n",
    "    return df.head(colors_to_return)#return the color_return highest bins, default 5, if less bins then\n",
    "                                #color_return are there return all"
   ]
  },
  {
   "cell_type": "code",
   "execution_count": 5,
   "metadata": {},
   "outputs": [],
   "source": [
    "def fn_rgb_to_color():\n",
    "    colors={'darkred':(139,0,0),\n",
    "    'firebrick':(178,34,34),\n",
    "    'crimson':(220,20,60),\n",
    "    'red':(255,0,0),\n",
    "    'tomato':(255,99,71),\n",
    "    'salmon':(250,128,114),\n",
    "    'dark_orange':(255,140,0),\n",
    "    'gold':(255,215,0),\n",
    "    'dark_khaki':(189,183,107),\n",
    "    'yellow':(255,255,0),\n",
    "    'dark_olive_green':(85,107,47),\n",
    "    'olive_drab':(107,142,35),\n",
    "    'green_yellow':(173,255,47),\n",
    "    'dark_green':(0,100,0),\n",
    "    'aqua_marine':(127,255,212),\n",
    "    'steel_blue':(70,130,180),\n",
    "    'sky_blue':(135,206,235),\n",
    "    'dark_blue':(0,0,139),\n",
    "    'blue':(0,0,255),\n",
    "    'royal_blue':(65,105,225),\n",
    "    'purple':(128,0,128),\n",
    "    'violet':(238,130,238),\n",
    "    'deep_pink':(255,20,147),\n",
    "    'pink':(255,192,203),\n",
    "    'antique_white':(250,235,215),\n",
    "    'saddle_brown':(139,69,19),\n",
    "    'sandy_brown':(244,164,96),\n",
    "    'ivory':(255,255,240),\n",
    "    'dim_grey':(105,105,105),\n",
    "    'grey':(28,128,128),\n",
    "    'silver':(192,192,192),\n",
    "    'light_grey':(211,211,211),\n",
    "    'black':(0,0,0),\n",
    "    'white':(255,255,255),\n",
    "    'dark_cyan':(0,139,139),\n",
    "    'cyan':(0,255,255),\n",
    "    'green':(0,128,0),\n",
    "    'khaki':(240,230,140),\n",
    "    'golden_rod':(218,165,32),\n",
    "    'orange':(255,165,0),\n",
    "    'coral':(255,127,80),\n",
    "    'magenta':(255,0,255),\n",
    "    'wheat':(245,222,179),\n",
    "    'skin':(255,224,189),\n",
    "    'purple4':(147,112,219)}\n",
    "    rgb_to_color={}\n",
    "    for color in colors:\n",
    "        rgb_to_color[colors[color]]=color\n",
    "    #purple4 is median purple\n",
    "    #skin is caucasian\n",
    "    return rgb_to_color"
   ]
  },
  {
   "cell_type": "code",
   "execution_count": 62,
   "metadata": {},
   "outputs": [],
   "source": [
    "def fn_rgb_to_color2():\n",
    "    colors={'darkred':(139,0,0),\n",
    "    'firebrick':(178,34,34),\n",
    "    'crimson':(220,20,60),\n",
    "    'red':(255,0,0),\n",
    "    'tomato':(255,99,71),\n",
    "    'salmon':(250,128,114),\n",
    "    'darkorange':(255,140,0),\n",
    "    'gold':(255,215,0),\n",
    "    'darkkhaki':(189,183,107),\n",
    "    'yellow':(255,255,0),\n",
    "    'darkolivegreen':(85,107,47),\n",
    "    'olivedrab':(107,142,35),\n",
    "    'greenyellow':(173,255,47),\n",
    "    'darkgreen':(0,100,0),\n",
    "    'aquamarine':(127,255,212),\n",
    "    'steelblue':(70,130,180),\n",
    "    'skyblue':(135,206,235),\n",
    "    'darkblue':(0,0,139),\n",
    "    'blue':(0,0,255),\n",
    "    'royalblue':(65,105,225),\n",
    "    'purple':(128,0,128),\n",
    "    'violet':(238,130,238),\n",
    "    'deeppink':(255,20,147),\n",
    "    'pink':(255,192,203),\n",
    "    'antiquewhite':(250,235,215),\n",
    "    'saddlebrown':(139,69,19),\n",
    "    'sandybrown':(244,164,96),\n",
    "    'ivory':(255,255,240),\n",
    "    'dimgrey':(105,105,105),\n",
    "    'grey':(28,128,128),\n",
    "    'silver':(192,192,192),\n",
    "    'lightgrey':(211,211,211),\n",
    "    'black':(0,0,0),\n",
    "    'white':(255,255,255),\n",
    "    'darkcyan':(0,139,139),\n",
    "    'cyan':(0,255,255),\n",
    "    'green':(0,128,0),\n",
    "    'khaki':(240,230,140),\n",
    "    'goldenrod':(218,165,32),\n",
    "    'orange':(255,165,0),\n",
    "    'coral':(255,127,80),\n",
    "    'magenta':(255,0,255),\n",
    "    'wheat':(245,222,179),\n",
    "    'skin':(255,224,189),\n",
    "    'purple4':(147,112,219)}\n",
    "    rgb_to_color={}\n",
    "    for color in colors:\n",
    "        rgb_to_color[colors[color]]=color\n",
    "    #purple4 is median purple\n",
    "    #skin is caucasian\n",
    "    return rgb_to_color"
   ]
  },
  {
   "cell_type": "code",
   "execution_count": 92,
   "metadata": {
    "scrolled": true
   },
   "outputs": [
    {
     "data": {
      "text/plain": [
       "'white, black, sandybrown, lightgrey, dimgrey, antiquewhite'"
      ]
     },
     "execution_count": 92,
     "metadata": {},
     "output_type": "execute_result"
    }
   ],
   "source": [
    "#read .json-file\n",
    "import json\n",
    "with open('/home/jacob/Downloads/ImCo___Colour_Range.json') as file:\n",
    "    ground_truth=json.load(file)\n",
    "ground_truth['annotations'][0]['content']"
   ]
  },
  {
   "cell_type": "code",
   "execution_count": 63,
   "metadata": {},
   "outputs": [],
   "source": [
    "#embed the color strings as unique numbers \n",
    "color_embedding = {}\n",
    "rgb_to_color = fn_rgb_to_color2()\n",
    "i=0\n",
    "for rgb in rgb_to_color:\n",
    "    color_embedding[rgb_to_color[rgb]]=i\n",
    "    i+=1"
   ]
  },
  {
   "cell_type": "code",
   "execution_count": 93,
   "metadata": {},
   "outputs": [],
   "source": [
    "#use the embedding on the ground truth\n",
    "g_t_all_embedded = []\n",
    "for g_t in ground_truth['annotations']:\n",
    "    g_t=g_t['content']\n",
    "    g_t_embedded=[]\n",
    "    for color in g_t.replace(\" \",\"\").split(','):\n",
    "        g_t_embedded.append(color_embedding[color])\n",
    "    g_t_all_embedded.append(g_t_embedded)\n",
    "\n",
    "# g_t_all_embedded"
   ]
  },
  {
   "cell_type": "code",
   "execution_count": 88,
   "metadata": {},
   "outputs": [
    {
     "data": {
      "text/plain": [
       "1.0"
      ]
     },
     "execution_count": 88,
     "metadata": {},
     "output_type": "execute_result"
    }
   ],
   "source": [
    "#precision & recall\n",
    "from sklearn.metrics import recall_score,precision_score\n",
    "# x = [0,1,2,3,4,5]\n",
    "# recall_score(x,x,average='micro')\n",
    "recall_score(g_t_embedded,g_t_embedded,average='micro')"
   ]
  },
  {
   "cell_type": "code",
   "execution_count": null,
   "metadata": {},
   "outputs": [],
   "source": []
  }
 ],
 "metadata": {
  "kernelspec": {
   "display_name": "Python 3",
   "language": "python",
   "name": "python3"
  },
  "language_info": {
   "codemirror_mode": {
    "name": "ipython",
    "version": 3
   },
   "file_extension": ".py",
   "mimetype": "text/x-python",
   "name": "python",
   "nbconvert_exporter": "python",
   "pygments_lexer": "ipython3",
   "version": "3.6.4"
  }
 },
 "nbformat": 4,
 "nbformat_minor": 2
}
