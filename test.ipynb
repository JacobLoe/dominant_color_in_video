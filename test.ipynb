{
 "cells": [
  {
   "cell_type": "code",
   "execution_count": 1,
   "metadata": {},
   "outputs": [],
   "source": [
    "#libraries\n",
    "import cv2\n",
    "from sklearn.cluster import KMeans"
   ]
  },
  {
   "cell_type": "markdown",
   "metadata": {},
   "source": [
    "github repo\n"
   ]
  },
  {
   "cell_type": "markdown",
   "metadata": {},
   "source": [
    "video downscale\n",
    "unterabtastung"
   ]
  },
  {
   "cell_type": "code",
   "execution_count": 2,
   "metadata": {},
   "outputs": [],
   "source": [
    "vid = cv2.VideoCapture('IMG_2525.MOV')\n",
    "frames=[]\n",
    "while(vid.isOpened()):\n",
    "    # Capture frame-by-frame\n",
    "    ret, frame = vid.read()\n",
    "    frames.append(frame)\n",
    "    if ret:\n",
    "        # Display the resulting frame\n",
    "        cv2.imshow('frame',frame)\n",
    "        if cv2.waitKey(1) & 0xFF == ord('q'):\n",
    "            break\n",
    "    else:\n",
    "        break\n",
    "vid.release()\n",
    "cv2.destroyAllWindows()"
   ]
  },
  {
   "cell_type": "code",
   "execution_count": 3,
   "metadata": {},
   "outputs": [
    {
     "data": {
      "text/plain": [
       "4278"
      ]
     },
     "execution_count": 3,
     "metadata": {},
     "output_type": "execute_result"
    }
   ],
   "source": [
    "len(frames)"
   ]
  },
  {
   "cell_type": "code",
   "execution_count": null,
   "metadata": {},
   "outputs": [],
   "source": [
    "# cv2.imshow('frame',frames[200])"
   ]
  },
  {
   "cell_type": "markdown",
   "metadata": {},
   "source": [
    "Dominant Color Extractor"
   ]
  },
  {
   "cell_type": "code",
   "execution_count": 4,
   "metadata": {},
   "outputs": [],
   "source": [
    "class DominantColors:\n",
    "    CLUSTERS = None\n",
    "    IMAGE = None\n",
    "    COLORS = None\n",
    "    LABELS = None\n",
    "    def __init__(self, image, clusters=3):\n",
    "        self.CLUSTERS = clusters\n",
    "        self.IMAGE = image\n",
    "    def dominantColors(self):\n",
    "        #read image\n",
    "        img = cv2.imread(self.IMAGE)\n",
    "        \n",
    "        #convert to rgb from bgr\n",
    "        img = cv2.cvtColor(img, cv2.COLOR_BGR2RGB)\n",
    "                \n",
    "        #reshaping to a list of pixels\n",
    "        img = img.reshape((img.shape[0] * img.shape[1], 3))\n",
    "        \n",
    "        #save image after operations\n",
    "        self.IMAGE = img\n",
    "        \n",
    "        #using k-means to cluster pixels\n",
    "        kmeans = KMeans(n_clusters = self.CLUSTERS)\n",
    "        kmeans.fit(img)\n",
    "        \n",
    "        #the cluster centers are our dominant colors.\n",
    "        self.COLORS = kmeans.cluster_centers_\n",
    "        \n",
    "        #save labels\n",
    "        self.LABELS = kmeans.labels_\n",
    "        \n",
    "        #returning after converting to integer from float\n",
    "        return self.COLORS.astype(int)\n",
    "    def dominant2(self):\n",
    "        img = self.IMAGE\n",
    "        self.IMAGE = img\n",
    "        \n",
    "        img = img.reshape((img.shape[0] * img.shape[1], 3))\n",
    "        \n",
    "        #using k-means to cluster pixels\n",
    "        kmeans = KMeans(n_clusters = self.CLUSTERS)\n",
    "        kmeans.fit(img)\n",
    "        \n",
    "        #the cluster centers are our dominant colors.\n",
    "        self.COLORS = kmeans.cluster_centers_\n",
    "        \n",
    "        #save labels\n",
    "        self.LABELS = kmeans.labels_\n",
    "        \n",
    "        #returning after converting to integer from float\n",
    "        return self.COLORS.astype(int)"
   ]
  },
  {
   "cell_type": "code",
   "execution_count": 15,
   "metadata": {
    "collapsed": true
   },
   "outputs": [
    {
     "data": {
      "text/plain": [
       "array([[[ 39,  45,  54],\n",
       "        [ 37,  43,  52],\n",
       "        [ 32,  38,  47],\n",
       "        ...,\n",
       "        [ 24,  31,  58],\n",
       "        [ 24,  31,  58],\n",
       "        [ 24,  31,  58]],\n",
       "\n",
       "       [[ 38,  44,  53],\n",
       "        [ 36,  42,  51],\n",
       "        [ 32,  38,  47],\n",
       "        ...,\n",
       "        [ 25,  32,  59],\n",
       "        [ 24,  31,  58],\n",
       "        [ 24,  31,  58]],\n",
       "\n",
       "       [[ 36,  42,  51],\n",
       "        [ 34,  40,  49],\n",
       "        [ 30,  36,  45],\n",
       "        ...,\n",
       "        [ 25,  32,  59],\n",
       "        [ 24,  31,  58],\n",
       "        [ 24,  31,  58]],\n",
       "\n",
       "       ...,\n",
       "\n",
       "       [[ 54,  62,  84],\n",
       "        [ 53,  61,  83],\n",
       "        [ 52,  60,  82],\n",
       "        ...,\n",
       "        [136, 163, 184],\n",
       "        [136, 163, 184],\n",
       "        [136, 163, 184]],\n",
       "\n",
       "       [[ 49,  57,  79],\n",
       "        [ 47,  55,  77],\n",
       "        [ 47,  55,  77],\n",
       "        ...,\n",
       "        [134, 165, 181],\n",
       "        [134, 165, 181],\n",
       "        [134, 165, 181]],\n",
       "\n",
       "       [[ 46,  54,  76],\n",
       "        [ 46,  54,  76],\n",
       "        [ 46,  54,  76],\n",
       "        ...,\n",
       "        [134, 165, 181],\n",
       "        [134, 165, 181],\n",
       "        [134, 165, 181]]], dtype=uint8)"
      ]
     },
     "execution_count": 15,
     "metadata": {},
     "output_type": "execute_result"
    }
   ],
   "source": [
    "frames[0]"
   ]
  },
  {
   "cell_type": "markdown",
   "metadata": {},
   "source": [
    "1. look up list\n",
    "2. color map to string\n",
    "3. histogram\n",
    "\n",
    "4. k-means selber mit color list\n",
    "nearest neighbour search sklearn"
   ]
  },
  {
   "cell_type": "code",
   "execution_count": 5,
   "metadata": {},
   "outputs": [
    {
     "name": "stdout",
     "output_type": "stream",
     "text": [
      "[[ 32  31  34]\n",
      " [128 172 191]\n",
      " [ 91 100 114]\n",
      " [246 250 250]\n",
      " [ 58  66  67]]\n"
     ]
    }
   ],
   "source": [
    "img = frames[0]\n",
    "clusters = 5\n",
    "dc = DominantColors(img, clusters) \n",
    "colors = dc.dominant2()\n",
    "# colors = dc.dominantColors()\n",
    "print(colors)"
   ]
  },
  {
   "cell_type": "code",
   "execution_count": 6,
   "metadata": {},
   "outputs": [
    {
     "name": "stdout",
     "output_type": "stream",
     "text": [
      "[[127 170 189]\n",
      " [ 32  31  34]\n",
      " [ 58  65  66]\n",
      " [246 250 250]\n",
      " [ 90 100 113]]\n"
     ]
    }
   ],
   "source": [
    "img = frames[1]\n",
    "clusters = 5\n",
    "dc = DominantColors(img, clusters) \n",
    "colors = dc.dominant2()\n",
    "# colors = dc.dominantColors()\n",
    "print(colors)"
   ]
  },
  {
   "cell_type": "code",
   "execution_count": 26,
   "metadata": {},
   "outputs": [],
   "source": [
    "import numpy as np\n",
    "img = cv2.imread('image2.png')\n",
    "#convert to rgb from bgr\n",
    "img = cv2.cvtColor(img, cv2.COLOR_BGR2RGB)\n",
    "#reshaping to a list of pixels\n",
    "img = img.reshape((img.shape[0] * img.shape[1], 3))\n",
    "# using k-means to cluster pixels\n",
    "# kmeans = KMeans(n_clusters = self.CLUSTERS)\n",
    "# kmeans.fit(img)\n",
    "img1 = frames[0].reshape((frames[0].shape[0] * frames[0].shape[1], 3))\n",
    "# np.s(np.ravel(frames[0],))"
   ]
  },
  {
   "cell_type": "code",
   "execution_count": 27,
   "metadata": {},
   "outputs": [
    {
     "data": {
      "text/plain": [
       "(2073600, 3)"
      ]
     },
     "execution_count": 27,
     "metadata": {},
     "output_type": "execute_result"
    }
   ],
   "source": [
    "np.shape(img)\n",
    "np.shape(img1)"
   ]
  },
  {
   "cell_type": "code",
   "execution_count": null,
   "metadata": {},
   "outputs": [],
   "source": []
  }
 ],
 "metadata": {
  "kernelspec": {
   "display_name": "Python 3",
   "language": "python",
   "name": "python3"
  },
  "language_info": {
   "codemirror_mode": {
    "name": "ipython",
    "version": 3
   },
   "file_extension": ".py",
   "mimetype": "text/x-python",
   "name": "python",
   "nbconvert_exporter": "python",
   "pygments_lexer": "ipython3",
   "version": "3.6.4"
  }
 },
 "nbformat": 4,
 "nbformat_minor": 2
}
