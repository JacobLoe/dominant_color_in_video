{
 "cells": [
  {
   "cell_type": "code",
   "execution_count": 1,
   "metadata": {},
   "outputs": [],
   "source": [
    "#libraries\n",
    "import cv2\n",
    "import numpy as np\n",
    "import pandas as pd\n",
    "from scipy.spatial.distance import euclidean"
   ]
  },
  {
   "cell_type": "markdown",
   "metadata": {},
   "source": [
    "can I start from specific timestamps ?\n",
    "\n",
    "what happens for skip_frames=0"
   ]
  },
  {
   "cell_type": "code",
   "execution_count": 2,
   "metadata": {},
   "outputs": [],
   "source": [
    "#read video file frame by frame\n",
    "def read_video(video,skip_frames,resolution):\n",
    "    vid = cv2.VideoCapture(video)\n",
    "    frames=[]\n",
    "    vid_length=0\n",
    "    while(vid.isOpened()):\n",
    "        # Capture frame-by-frame\n",
    "        ret, frame = vid.read() # if ret is false, frame has no content\n",
    "        # resize the video to a different resolution\n",
    "        if ret:\n",
    "            frame=cv2.resize(frame,resolution)\n",
    "        # skip every \"skip_frame\"\n",
    "        if vid_length%skip_frames==0:\n",
    "            frames.append(frame) #add the individual frames to a list\n",
    "        vid_length+=1 #increase the vid_length counter\n",
    "        if not ret:\n",
    "            break\n",
    "    vid.release()\n",
    "    cv2.destroyAllWindows()\n",
    "    return frames"
   ]
  },
  {
   "cell_type": "markdown",
   "metadata": {},
   "source": [
    "compare different framerates and resolutions"
   ]
  },
  {
   "cell_type": "code",
   "execution_count": 3,
   "metadata": {},
   "outputs": [
    {
     "data": {
      "text/plain": [
       "2139"
      ]
     },
     "execution_count": 3,
     "metadata": {},
     "output_type": "execute_result"
    }
   ],
   "source": [
    "frames=read_video('/home/jacob/Downloads/IMG_2525.MOV',2,(640,360))\n",
    "len(frames)"
   ]
  },
  {
   "cell_type": "markdown",
   "metadata": {},
   "source": [
    "Dominant Color Extractor"
   ]
  },
  {
   "cell_type": "code",
   "execution_count": 4,
   "metadata": {},
   "outputs": [],
   "source": [
    "def extract_dominant_color(frame_list,rgb_to_color):\n",
    "    #bins dict for histograms\n",
    "    bins={}\n",
    "    rgb_list=[]\n",
    "    \n",
    "    #init the dict with zeros for every key\n",
    "    for rgb in rgb_to_color:\n",
    "        bins[rgb_to_color[rgb]]=0\n",
    "    #map the values of the dict to a list\n",
    "    for rgb in rgb_to_color:\n",
    "        rgb_list.append(rgb)\n",
    "    i = 0\n",
    "    for image in frame_list:\n",
    "        #flatten the image to 1d \n",
    "        img = image.reshape((image.shape[0] * image.shape[1], 3))     \n",
    "\n",
    "        #nearest neighbour search\n",
    "        for pixel in img:\n",
    "            bin_aux=[]\n",
    "            #get the euclidean distance between the colors and the current pixel\n",
    "            for rgb in rgb_list:\n",
    "                bin_aux.append(euclidean(pixel,rgb))\n",
    "            # get the index of the color,which has the smallest distance, in rgb_list\n",
    "            min_pos = np.argmin(bin_aux)\n",
    "            #increment the respective color \n",
    "            bins[rgb_to_color[rgb_list[min_pos]]]+=1\n",
    "        i+=1\n",
    "        print('Finished '+str(i))\n",
    "\n",
    "    #return the count of all the colors\n",
    "    return bins"
   ]
  },
  {
   "cell_type": "code",
   "execution_count": 5,
   "metadata": {},
   "outputs": [],
   "source": [
    "colors={'darkred':(139,0,0),\n",
    "'firebrick':(178,34,34),\n",
    "'crimson':(220,20,60),\n",
    "'red':(255,0,0),\n",
    "'tomato':(255,99,71),\n",
    "'salmon':(250,128,114),\n",
    "'dark_orange':(255,140,0),\n",
    "'gold':(255,215,0),\n",
    "'dark_khaki':(189,183,107),\n",
    "'yellow':(255,255,0),\n",
    "'dark_olive_green':(85,107,47),\n",
    "'olive_drab':(107,142,35),\n",
    "'green_yellow':(173,255,47),\n",
    "'dark_green':(0,100,0),\n",
    "'aqua_marine':(127,255,212),\n",
    "'steel_blue':(70,130,180),\n",
    "'sky_blue':(135,206,235),\n",
    "'dark_blue':(0,0,139),\n",
    "'blue':(0,0,255),\n",
    "'royal_blue':(65,105,225),\n",
    "'purple':(128,0,128),\n",
    "'violet':(238,130,238),\n",
    "'deep_pink':(255,20,147),\n",
    "'pink':(255,192,203),\n",
    "'antique_white':(250,235,215),\n",
    "'saddle_brown':(139,69,19),\n",
    "'sandy_brown':(244,164,96),\n",
    "'ivory':(255,255,240),\n",
    "'dim_grey':(105,105,105),\n",
    "'grey':(28,128,128),\n",
    "'silver':(192,192,192),\n",
    "'light_grey':(211,211,211),\n",
    "'black':(0,0,0),\n",
    "'white':(255,255,255),\n",
    "'dark_cyan':(0,139,139),\n",
    "'cyan':(0,255,255),\n",
    "'green':(0,128,0),\n",
    "'khaki':(240,230,140),\n",
    "'golden_rod':(218,165,32),\n",
    "'orange':(255,165,0),\n",
    "'coral':(255,127,80),\n",
    "'magenta':(255,0,255),\n",
    "'wheat':(245,222,179),\n",
    "'skin':(255,224,189),\n",
    "'purple4':(147,112,219)}\n",
    "rgb_to_color={}\n",
    "for color in colors:\n",
    "    rgb_to_color[colors[color]]=color\n",
    "# rgb_to_color"
   ]
  },
  {
   "cell_type": "code",
   "execution_count": 6,
   "metadata": {},
   "outputs": [],
   "source": [
    "# #read the file with colors and there rgb-values into a dictionary\n",
    "# rgb_to_color = {}\n",
    "# with open(\"colors\") as f:\n",
    "#     for line in f:\n",
    "#         #split lines at \"::\n",
    "#         color, rgb = line.strip().split(':')\n",
    "#         #strip the rgb-string of the parenthesis, split it up a the commas,\n",
    "#         #cast them to int and put them into a tuples\n",
    "#         rgb_value=tuple(map(int,\n",
    "#                             (rgb.strip('(').strip(')').split(','))))\n",
    "#         rgb_to_color[rgb_value] = color\n",
    "# len(rgb_to_color)\n",
    "# #purple is median purple\n",
    "# #skin is caucasian "
   ]
  },
  {
   "cell_type": "code",
   "execution_count": 9,
   "metadata": {},
   "outputs": [],
   "source": [
    "# 640x360\n",
    "frames_2 = read_video('/home/jacob/Downloads/IMG_2525.MOV',2,(640,360))\n",
    "frames_8 = read_video('/home/jacob/Downloads/IMG_2525.MOV',8,(640,360))\n",
    "frames_32 = read_video('/home/jacob/Downloads/IMG_2525.MOV',32,(640,360))\n",
    "print(len(frames_2),len(frames_8),len(frames_32))"
   ]
  },
  {
   "cell_type": "code",
   "execution_count": 11,
   "metadata": {},
   "outputs": [
    {
     "name": "stdout",
     "output_type": "stream",
     "text": [
      "2139 535 134\n"
     ]
    }
   ],
   "source": [
    "# 480x270\n",
    "frames_2_2 = read_video('/home/jacob/Downloads/IMG_2525.MOV',2,(480,270))\n",
    "frames_8_2 = read_video('/home/jacob/Downloads/IMG_2525.MOV',8,(480,270))\n",
    "frames_32_2 = read_video('/home/jacob/Downloads/IMG_2525.MOV',32,(480,270))\n",
    "print(len(frames_2_2),len(frames_8_2),len(frames_32_2))"
   ]
  },
  {
   "cell_type": "code",
   "execution_count": null,
   "metadata": {},
   "outputs": [
    {
     "name": "stdout",
     "output_type": "stream",
     "text": [
      "Finished 1\n",
      "Finished 2\n",
      "Finished 3\n"
     ]
    }
   ],
   "source": [
    "bins_2 = extract_dominant_color(frames_2,rgb_to_color)\n",
    "bins_8 = extract_dominant_color(frames_8,rgb_to_color)\n",
    "bins_32 = extract_dominant_color(frames_32,rgb_to_color)"
   ]
  },
  {
   "cell_type": "code",
   "execution_count": null,
   "metadata": {},
   "outputs": [],
   "source": [
    "bins_2_2 = extract_dominant_color(frames_2_2,rgb_to_color)\n",
    "bins_8_2 = extract_dominant_color(frames_8_2,rgb_to_color)\n",
    "bins_32_2 = extract_dominant_color(frames_32_2,rgb_to_color)"
   ]
  },
  {
   "cell_type": "code",
   "execution_count": null,
   "metadata": {},
   "outputs": [],
   "source": [
    "# bins=extract_dominant_color(frames,rgb_to_color)\n",
    "# print(bins)"
   ]
  },
  {
   "cell_type": "markdown",
   "metadata": {},
   "source": [
    "barplot"
   ]
  },
  {
   "cell_type": "code",
   "execution_count": null,
   "metadata": {},
   "outputs": [],
   "source": [
    "sort=zip(list(bins.values()),list(bins.keys()))\n",
    "sort=sorted(sort)\n",
    "df=pd.DataFrame(sort,columns=['count','color'])\n",
    "df.set_index('color',inplace=True)\n",
    "df.tail()"
   ]
  },
  {
   "cell_type": "code",
   "execution_count": null,
   "metadata": {},
   "outputs": [],
   "source": [
    "df.plot(kind='bar')"
   ]
  }
 ],
 "metadata": {
  "kernelspec": {
   "display_name": "Python 3",
   "language": "python",
   "name": "python3"
  },
  "language_info": {
   "codemirror_mode": {
    "name": "ipython",
    "version": 3
   },
   "file_extension": ".py",
   "mimetype": "text/x-python",
   "name": "python",
   "nbconvert_exporter": "python",
   "pygments_lexer": "ipython3",
   "version": "3.6.4"
  }
 },
 "nbformat": 4,
 "nbformat_minor": 2
}
