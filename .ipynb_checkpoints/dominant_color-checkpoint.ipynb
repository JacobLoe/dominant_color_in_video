{
 "cells": [
  {
   "cell_type": "code",
   "execution_count": 1,
   "metadata": {},
   "outputs": [
    {
     "name": "stderr",
     "output_type": "stream",
     "text": [
      "/usr/lib/python3.6/importlib/_bootstrap.py:219: RuntimeWarning: numpy.dtype size changed, may indicate binary incompatibility. Expected 96, got 88\n",
      "  return f(*args, **kwds)\n"
     ]
    }
   ],
   "source": [
    "#libraries\n",
    "import cv2\n",
    "import numpy as np\n",
    "import pandas as pd\n",
    "from scipy.spatial.distance import euclidean\n",
    "from sklearn.neighbors import KDTree\n",
    "import time\n",
    "import argparse\n",
    "import json"
   ]
  },
  {
   "cell_type": "markdown",
   "metadata": {},
   "source": [
    "can I start from specific timestamps ?\n",
    "\n",
    "what happens for skip_frames=0 ?"
   ]
  },
  {
   "cell_type": "code",
   "execution_count": 2,
   "metadata": {},
   "outputs": [],
   "source": [
    "#read video file frame by frame, beginning and ending with a timestamp\n",
    "def read_video_segments(video,start_frame,end_frame,resolution_width=200):\n",
    "    resolution_height=int(round(resolution_width * 9/16))\n",
    "    resolution=(resolution_width,resolution_height)\n",
    "    vid = cv2.VideoCapture(video)\n",
    "    frames=[]\n",
    "    vid_length=0\n",
    "    while(vid.isOpened()):\n",
    "        # Capture frame-by-frame\n",
    "        ret, frame = vid.read() # if ret is false, frame has no content\n",
    "        if not ret:\n",
    "            break\n",
    "        # skip every \"skip_frame\"\n",
    "        if vid_length>=start_frame:\n",
    "            # resize the video to a different resolution\n",
    "            frame=cv2.resize(frame,resolution)\n",
    "            frames.append(frame) #add the individual frames to a list\n",
    "        if vid_length==end_frame:\n",
    "            break\n",
    "        vid_length+=1 #increase the vid_length counter\n",
    "    vid.release()\n",
    "    cv2.destroyAllWindows()\n",
    "    return frames"
   ]
  },
  {
   "cell_type": "markdown",
   "metadata": {},
   "source": [
    "Dominant Color Extractor\n",
    "\n",
    "- add better comments"
   ]
  },
  {
   "cell_type": "code",
   "execution_count": 3,
   "metadata": {},
   "outputs": [],
   "source": [
    "def extract_dominant_color(frame_list):\n",
    "    print(str(len(frame_list))+' frames to process.')\n",
    "    start=time.time()\n",
    "    rgb_to_color=fn_rgb_to_color() #get the color dict \n",
    "    bins={} #bins dict for histograms \n",
    "    for rgb in rgb_to_color: #init the dict with zeros for every key\n",
    "        bins[rgb_to_color[rgb]]=0\n",
    "    rgb_list=[] #create a traverseable list of the rgb_values\n",
    "    for rgb in rgb_to_color: #map the values of the dict to a list\n",
    "        rgb_list.append(rgb)\n",
    "    i = 0\n",
    "\n",
    "    kdt = KDTree(rgb_list, leaf_size=30, metric='euclidean')  \n",
    "    for image in frame_list: #traverse the video\n",
    "        #flatten the image to 1d \n",
    "        img = image.reshape((image.shape[0] * image.shape[1], 3))     \n",
    "        nns = kdt.query(img, k=1, return_distance=False)\n",
    "        for nn in nns:\n",
    "            bins[rgb_to_color[rgb_list[nn[0]]]]+=1\n",
    "#        for pixel in img: # do nearest neighbour search on every pixel every color in the list\n",
    "#            bin_aux=[]\n",
    "#            #get the euclidean distance between the colors and the current pixel\n",
    "#            for rgb in rgb_list:\n",
    "#                bin_aux.append(euclidean(pixel,rgb))\n",
    "#            # get the index of the color,which has the smallest distance, in rgb_list\n",
    "#            min_pos = np.argmin(bin_aux)\n",
    "#            #increment the respective color \n",
    "#            bins[rgb_to_color[rgb_list[min_pos]]]+=1\n",
    "        i+=1\n",
    "        end=time.time()\n",
    "        print('Finished '+str(i)+',time: '+str(end-start))\n",
    "        norm_factor = len(frame_list)* np.shape(frame_list[0])[0] * np.shape(frame_list[0])[1]#normalize the bins\n",
    "        bins_norm={k:v/norm_factor for k,v in bins.items()}\n",
    "    return bins_norm"
   ]
  },
  {
   "cell_type": "code",
   "execution_count": 4,
   "metadata": {},
   "outputs": [],
   "source": [
    "def bins_to_df(bins,bin_threshold=5,colors_to_return=5):\n",
    "    #create a dataframe, sorted descending by count\n",
    "    bins_sorted=sorted(zip(list(bins.values()),list(bins.keys())),reverse=True)\n",
    "    df=pd.DataFrame(bins_sorted,columns=['count','color'])\n",
    "    df.set_index('color',inplace=True) #set the colors as the index of the dataframe\n",
    "    bin_threshold=bin_threshold/100 #scale the percentage to 0-1\n",
    "    df = df[df>bin_threshold].dropna() #kick bins from the dataframe with precentage lower than bin_threshold \n",
    "    return df.head(colors_to_return)#return the color_return highest bins, default 5, if less bins then\n",
    "                                    #color_return are there return all"
   ]
  },
  {
   "cell_type": "code",
   "execution_count": 5,
   "metadata": {},
   "outputs": [],
   "source": [
    "def fn_rgb_to_color():\n",
    "    colors={'darkred':(139,0,0),\n",
    "    'firebrick':(178,34,34),\n",
    "    'crimson':(220,20,60),\n",
    "    'red':(255,0,0),\n",
    "    'tomato':(255,99,71),\n",
    "    'salmon':(250,128,114),\n",
    "    'darkorange':(255,140,0),\n",
    "    'gold':(255,215,0),\n",
    "    'darkkhaki':(189,183,107),\n",
    "    'yellow':(255,255,0),\n",
    "    'darkolivegreen':(85,107,47),\n",
    "    'olivedrab':(107,142,35),\n",
    "    'greenyellow':(173,255,47),\n",
    "    'darkgreen':(0,100,0),\n",
    "    'aquamarine':(127,255,212),\n",
    "    'steelblue':(70,130,180),\n",
    "    'skyblue':(135,206,235),\n",
    "    'darkblue':(0,0,139),\n",
    "    'blue':(0,0,255),\n",
    "    'royalblue':(65,105,225),\n",
    "    'purple':(128,0,128),\n",
    "    'violet':(238,130,238),\n",
    "    'deeppink':(255,20,147),\n",
    "    'pink':(255,192,203),\n",
    "    'antiquewhite':(250,235,215),\n",
    "    'saddlebrown':(139,69,19),\n",
    "    'sandybrown':(244,164,96),\n",
    "    'ivory':(255,255,240),\n",
    "    'dimgrey':(105,105,105),\n",
    "    'grey':(28,128,128),\n",
    "    'silver':(192,192,192),\n",
    "    'lightgrey':(211,211,211),\n",
    "    'black':(0,0,0),\n",
    "    'white':(255,255,255),\n",
    "    'darkcyan':(0,139,139),\n",
    "    'cyan':(0,255,255),\n",
    "    'green':(0,128,0),\n",
    "    'khaki':(240,230,140),\n",
    "    'goldenrod':(218,165,32),\n",
    "    'orange':(255,165,0),\n",
    "    'coral':(255,127,80),\n",
    "    'magenta':(255,0,255),\n",
    "    'wheat':(245,222,179),\n",
    "    'skin':(255,224,189),\n",
    "    'purple4':(147,112,219)}\n",
    "    rgb_to_color={}\n",
    "    for color in colors:\n",
    "        rgb_to_color[colors[color]]=color\n",
    "    #purple4 is median purple\n",
    "    #skin is caucasian\n",
    "    return rgb_to_color"
   ]
  },
  {
   "cell_type": "code",
   "execution_count": 6,
   "metadata": {},
   "outputs": [],
   "source": [
    "# import zipfile\n",
    "# zip_ref = zipfile.ZipFile('CompanyMen_v1.0-split-012-Bobby_being_angry.azp', 'r')"
   ]
  },
  {
   "cell_type": "code",
   "execution_count": 7,
   "metadata": {},
   "outputs": [],
   "source": [
    "# zip_ref.extractall('zip')"
   ]
  },
  {
   "cell_type": "code",
   "execution_count": 8,
   "metadata": {},
   "outputs": [],
   "source": [
    "# import xml.etree.ElementTree as ET\n",
    "# tree = ET.parse('zip/content.xml')"
   ]
  },
  {
   "cell_type": "code",
   "execution_count": 9,
   "metadata": {},
   "outputs": [],
   "source": [
    "# root = tree.getroot().findall('./{http://experience.univ-lyon1.fr/advene/ns}annotations')"
   ]
  },
  {
   "cell_type": "code",
   "execution_count": 10,
   "metadata": {
    "scrolled": true
   },
   "outputs": [],
   "source": [
    "# for child in root[0].iter():\n",
    "#     #whenever a shot annotation is found, start color extraction\n",
    "#     if child.get('type')=='#Shot':\n",
    "#         dominant_colors_list=[]\n",
    "#         for child2 in child:\n",
    "#             if child2.tag=='{http://experience.univ-lyon1.fr/advene/ns}millisecond-fragment':\n",
    "#                 end=int(child2.get('end'))/1000*25\n",
    "#                 begin=int(child2.get('begin'))/1000*25\n",
    "# #                 segment = read_video_segments(args.video_path,begin,end,args.resolution_width)\n",
    "# #                 dominant_colors_list.append(begin,end,extract_dominant_colors(segment,args.bin_threshold,args.colors_to_return))"
   ]
  },
  {
   "cell_type": "code",
   "execution_count": 11,
   "metadata": {},
   "outputs": [],
   "source": [
    "frames = read_video_segments('videos/red.mp4',0,100)"
   ]
  },
  {
   "cell_type": "code",
   "execution_count": 12,
   "metadata": {
    "collapsed": true
   },
   "outputs": [
    {
     "name": "stdout",
     "output_type": "stream",
     "text": [
      "101 frames to process.\n",
      "Finished 1,time: 0.12753558158874512\n",
      "Finished 2,time: 0.15999960899353027\n",
      "Finished 3,time: 0.19642043113708496\n",
      "Finished 4,time: 0.23542237281799316\n",
      "Finished 5,time: 0.2663445472717285\n",
      "Finished 6,time: 0.2971775531768799\n",
      "Finished 7,time: 0.32708144187927246\n",
      "Finished 8,time: 0.3578062057495117\n",
      "Finished 9,time: 0.3894689083099365\n",
      "Finished 10,time: 0.4201850891113281\n",
      "Finished 11,time: 0.45427966117858887\n",
      "Finished 12,time: 0.4858865737915039\n",
      "Finished 13,time: 0.5136384963989258\n",
      "Finished 14,time: 0.540963888168335\n",
      "Finished 15,time: 0.5690340995788574\n",
      "Finished 16,time: 0.5966935157775879\n",
      "Finished 17,time: 0.624086856842041\n",
      "Finished 18,time: 0.6514275074005127\n",
      "Finished 19,time: 0.6844844818115234\n",
      "Finished 20,time: 0.7127852439880371\n",
      "Finished 21,time: 0.7408859729766846\n",
      "Finished 22,time: 0.7685887813568115\n",
      "Finished 23,time: 0.7963497638702393\n",
      "Finished 24,time: 0.8238451480865479\n",
      "Finished 25,time: 0.8523545265197754\n",
      "Finished 26,time: 0.8804125785827637\n",
      "Finished 27,time: 0.911750078201294\n",
      "Finished 28,time: 0.9382047653198242\n",
      "Finished 29,time: 0.9652438163757324\n",
      "Finished 30,time: 0.992560863494873\n",
      "Finished 31,time: 1.0215606689453125\n",
      "Finished 32,time: 1.0493016242980957\n",
      "Finished 33,time: 1.0769519805908203\n",
      "Finished 34,time: 1.105198621749878\n",
      "Finished 35,time: 1.1327545642852783\n",
      "Finished 36,time: 1.1599831581115723\n",
      "Finished 37,time: 1.1870059967041016\n",
      "Finished 38,time: 1.2145333290100098\n",
      "Finished 39,time: 1.2429897785186768\n",
      "Finished 40,time: 1.2705552577972412\n",
      "Finished 41,time: 1.2997448444366455\n",
      "Finished 42,time: 1.3283226490020752\n",
      "Finished 43,time: 1.3580541610717773\n",
      "Finished 44,time: 1.3864781856536865\n",
      "Finished 45,time: 1.4147100448608398\n",
      "Finished 46,time: 1.441819190979004\n",
      "Finished 47,time: 1.4701824188232422\n",
      "Finished 48,time: 1.5003488063812256\n",
      "Finished 49,time: 1.5303735733032227\n",
      "Finished 50,time: 1.5622680187225342\n",
      "Finished 51,time: 1.6099159717559814\n",
      "Finished 52,time: 1.6432197093963623\n",
      "Finished 53,time: 1.6745612621307373\n",
      "Finished 54,time: 1.7147972583770752\n",
      "Finished 55,time: 1.745011806488037\n",
      "Finished 56,time: 1.7877802848815918\n",
      "Finished 57,time: 1.822751760482788\n",
      "Finished 58,time: 1.8547673225402832\n",
      "Finished 59,time: 1.8965485095977783\n",
      "Finished 60,time: 1.9276039600372314\n",
      "Finished 61,time: 1.9668760299682617\n",
      "Finished 62,time: 2.008180618286133\n",
      "Finished 63,time: 2.0440666675567627\n",
      "Finished 64,time: 2.0864789485931396\n",
      "Finished 65,time: 2.124577760696411\n",
      "Finished 66,time: 2.1563994884490967\n",
      "Finished 67,time: 2.190446615219116\n",
      "Finished 68,time: 2.225358009338379\n",
      "Finished 69,time: 2.2667622566223145\n",
      "Finished 70,time: 2.301739454269409\n",
      "Finished 71,time: 2.332120180130005\n",
      "Finished 72,time: 2.361070394515991\n",
      "Finished 73,time: 2.3896408081054688\n",
      "Finished 74,time: 2.4175102710723877\n",
      "Finished 75,time: 2.449610948562622\n",
      "Finished 76,time: 2.478578567504883\n",
      "Finished 77,time: 2.506423234939575\n",
      "Finished 78,time: 2.5337092876434326\n",
      "Finished 79,time: 2.561654806137085\n",
      "Finished 80,time: 2.588920831680298\n",
      "Finished 81,time: 2.616966962814331\n",
      "Finished 82,time: 2.644692897796631\n",
      "Finished 83,time: 2.6761314868927\n",
      "Finished 84,time: 2.704254150390625\n",
      "Finished 85,time: 2.7316462993621826\n",
      "Finished 86,time: 2.7607555389404297\n",
      "Finished 87,time: 2.7884342670440674\n",
      "Finished 88,time: 2.814509391784668\n",
      "Finished 89,time: 2.842341661453247\n",
      "Finished 90,time: 2.871419906616211\n",
      "Finished 91,time: 2.904486656188965\n",
      "Finished 92,time: 2.9444198608398438\n",
      "Finished 93,time: 2.970620632171631\n",
      "Finished 94,time: 2.997889280319214\n",
      "Finished 95,time: 3.0251615047454834\n",
      "Finished 96,time: 3.051410675048828\n",
      "Finished 97,time: 3.0781826972961426\n",
      "Finished 98,time: 3.1050076484680176\n",
      "Finished 99,time: 3.131254196166992\n",
      "Finished 100,time: 3.158536434173584\n",
      "Finished 101,time: 3.1856703758239746\n",
      "101 frames to process.\n",
      "Finished 1,time: 0.02834320068359375\n",
      "Finished 2,time: 0.05874824523925781\n",
      "Finished 3,time: 0.08757710456848145\n",
      "Finished 4,time: 0.11463022232055664\n",
      "Finished 5,time: 0.14383769035339355\n",
      "Finished 6,time: 0.17300891876220703\n",
      "Finished 7,time: 0.20402789115905762\n",
      "Finished 8,time: 0.23529291152954102\n",
      "Finished 9,time: 0.26223039627075195\n",
      "Finished 10,time: 0.289325475692749\n",
      "Finished 11,time: 0.3162961006164551\n",
      "Finished 12,time: 0.34274744987487793\n",
      "Finished 13,time: 0.3690040111541748\n",
      "Finished 14,time: 0.396075963973999\n",
      "Finished 15,time: 0.4225149154663086\n",
      "Finished 16,time: 0.44808197021484375\n",
      "Finished 17,time: 0.47617673873901367\n",
      "Finished 18,time: 0.5025064945220947\n",
      "Finished 19,time: 0.5311563014984131\n",
      "Finished 20,time: 0.5584287643432617\n",
      "Finished 21,time: 0.5857031345367432\n",
      "Finished 22,time: 0.6138536930084229\n",
      "Finished 23,time: 0.6407439708709717\n",
      "Finished 24,time: 0.6675264835357666\n",
      "Finished 25,time: 0.6952040195465088\n",
      "Finished 26,time: 0.7234055995941162\n",
      "Finished 27,time: 0.7506814002990723\n",
      "Finished 28,time: 0.7782471179962158\n",
      "Finished 29,time: 0.8038468360900879\n",
      "Finished 30,time: 0.8302402496337891\n",
      "Finished 31,time: 0.8569951057434082\n",
      "Finished 32,time: 0.8835389614105225\n",
      "Finished 33,time: 0.909945011138916\n",
      "Finished 34,time: 0.9381546974182129\n",
      "Finished 35,time: 0.9646298885345459\n",
      "Finished 36,time: 0.9925129413604736\n",
      "Finished 37,time: 1.0199716091156006\n",
      "Finished 38,time: 1.0479393005371094\n",
      "Finished 39,time: 1.0747146606445312\n",
      "Finished 40,time: 1.1016957759857178\n",
      "Finished 41,time: 1.127845048904419\n",
      "Finished 42,time: 1.1552016735076904\n",
      "Finished 43,time: 1.184065580368042\n",
      "Finished 44,time: 1.2114694118499756\n",
      "Finished 45,time: 1.2381598949432373\n",
      "Finished 46,time: 1.2647008895874023\n",
      "Finished 47,time: 1.2912545204162598\n",
      "Finished 48,time: 1.3190414905548096\n",
      "Finished 49,time: 1.3460452556610107\n",
      "Finished 50,time: 1.373119831085205\n",
      "Finished 51,time: 1.3997852802276611\n",
      "Finished 52,time: 1.427048921585083\n",
      "Finished 53,time: 1.4542977809906006\n",
      "Finished 54,time: 1.4834048748016357\n",
      "Finished 55,time: 1.5120723247528076\n",
      "Finished 56,time: 1.5403125286102295\n",
      "Finished 57,time: 1.5682661533355713\n",
      "Finished 58,time: 1.5976860523223877\n",
      "Finished 59,time: 1.6261405944824219\n",
      "Finished 60,time: 1.6537485122680664\n",
      "Finished 61,time: 1.6817612648010254\n",
      "Finished 62,time: 1.715195655822754\n",
      "Finished 63,time: 1.746931552886963\n",
      "Finished 64,time: 1.7765240669250488\n",
      "Finished 65,time: 1.8044824600219727\n",
      "Finished 66,time: 1.8301661014556885\n",
      "Finished 67,time: 1.856614112854004\n",
      "Finished 68,time: 1.8840324878692627\n",
      "Finished 69,time: 1.9105937480926514\n",
      "Finished 70,time: 1.9365007877349854\n",
      "Finished 71,time: 1.9634685516357422\n",
      "Finished 72,time: 1.9908251762390137\n",
      "Finished 73,time: 2.017359495162964\n",
      "Finished 74,time: 2.0433712005615234\n",
      "Finished 75,time: 2.070241928100586\n",
      "Finished 76,time: 2.0967159271240234\n",
      "Finished 77,time: 2.126159429550171\n",
      "Finished 78,time: 2.1533091068267822\n",
      "Finished 79,time: 2.180426836013794\n",
      "Finished 80,time: 2.2112584114074707\n",
      "Finished 81,time: 2.2403547763824463\n",
      "Finished 82,time: 2.270401954650879\n",
      "Finished 83,time: 2.3007421493530273\n",
      "Finished 84,time: 2.329554557800293\n",
      "Finished 85,time: 2.3587934970855713\n",
      "Finished 86,time: 2.38948392868042\n",
      "Finished 87,time: 2.418276071548462\n",
      "Finished 88,time: 2.4479787349700928\n",
      "Finished 89,time: 2.475637674331665\n",
      "Finished 90,time: 2.5054755210876465\n",
      "Finished 91,time: 2.5346131324768066\n",
      "Finished 92,time: 2.5622780323028564\n",
      "Finished 93,time: 2.5879933834075928\n",
      "Finished 94,time: 2.613800525665283\n",
      "Finished 95,time: 2.6409034729003906\n",
      "Finished 96,time: 2.667863368988037\n",
      "Finished 97,time: 2.694474697113037\n",
      "Finished 98,time: 2.721125602722168\n",
      "Finished 99,time: 2.7472143173217773\n",
      "Finished 100,time: 2.7738869190216064\n",
      "Finished 101,time: 2.8002703189849854\n"
     ]
    }
   ],
   "source": [
    "colors=[]\n",
    "colors.append(bins_to_df(extract_dominant_color(frames)))\n",
    "colors.append(bins_to_df(extract_dominant_color(frames)))"
   ]
  },
  {
   "cell_type": "code",
   "execution_count": 13,
   "metadata": {
    "scrolled": true
   },
   "outputs": [
    {
     "data": {
      "text/plain": [
       "[                   count\n",
       " color                   \n",
       " black           0.377228\n",
       " darkolivegreen  0.169154\n",
       " dimgrey         0.144280\n",
       " purple          0.071060\n",
       " purple4         0.050284,                    count\n",
       " color                   \n",
       " black           0.377228\n",
       " darkolivegreen  0.169154\n",
       " dimgrey         0.144280\n",
       " purple          0.071060\n",
       " purple4         0.050284]"
      ]
     },
     "execution_count": 13,
     "metadata": {},
     "output_type": "execute_result"
    }
   ],
   "source": [
    "colors"
   ]
  },
  {
   "cell_type": "code",
   "execution_count": 14,
   "metadata": {},
   "outputs": [
    {
     "name": "stdout",
     "output_type": "stream",
     "text": [
      "0   14                      count\n",
      "color                   \n",
      "black           0.377228\n",
      "darkolivegreen  0.169154\n",
      "dimgrey         0.144280\n",
      "purple          0.071060\n",
      "purple4         0.050284 \n",
      "\n"
     ]
    }
   ],
   "source": [
    "start=0\n",
    "end=14\n",
    "stuff=[]\n",
    "stuff.append((start,' ',end,' ', colors[0]))\n",
    "print(start,' ',end,' ', colors[0],'\\n')"
   ]
  },
  {
   "cell_type": "code",
   "execution_count": 72,
   "metadata": {},
   "outputs": [],
   "source": [
    "s=colors[0]"
   ]
  },
  {
   "cell_type": "code",
   "execution_count": 71,
   "metadata": {},
   "outputs": [
    {
     "data": {
      "text/plain": [
       "[[0.37722816478076376],\n",
       " [0.16915443776520508],\n",
       " [0.1442795261669024],\n",
       " [0.07105993635077794],\n",
       " [0.05028376944837341]]"
      ]
     },
     "execution_count": 71,
     "metadata": {},
     "output_type": "execute_result"
    }
   ],
   "source": [
    "w = (s.values.tolist())\n",
    "w"
   ]
  },
  {
   "cell_type": "code",
   "execution_count": 73,
   "metadata": {},
   "outputs": [
    {
     "data": {
      "text/plain": [
       "[('black', [0.37722816478076376]),\n",
       " ('darkolivegreen', [0.16915443776520508]),\n",
       " ('dimgrey', [0.1442795261669024]),\n",
       " ('purple', [0.07105993635077794]),\n",
       " ('purple4', [0.05028376944837341])]"
      ]
     },
     "execution_count": 73,
     "metadata": {},
     "output_type": "execute_result"
    }
   ],
   "source": [
    "a = zip(s.index.values,s.values.tolist())\n",
    "p = [(x,y) for x,y in a]\n",
    "p"
   ]
  },
  {
   "cell_type": "code",
   "execution_count": 74,
   "metadata": {},
   "outputs": [
    {
     "name": "stdout",
     "output_type": "stream",
     "text": [
      "0   14   [('black', [0.37722816478076376]), ('darkolivegreen', [0.16915443776520508]), ('dimgrey', [0.1442795261669024]), ('purple', [0.07105993635077794]), ('purple4', [0.05028376944837341])] \n",
      "\n"
     ]
    }
   ],
   "source": [
    "print(start,' ',end,' ', p,'\\n')"
   ]
  },
  {
   "cell_type": "code",
   "execution_count": 75,
   "metadata": {},
   "outputs": [],
   "source": [
    "a = (start,' ',end,' ', p)\n",
    "with open('test.txt','w') as file:\n",
    "    file.write(str(a)+'\\n')\n",
    "    file.write(str(a)+'\\n')\n",
    "    file.write(str(a)+'\\n')\n",
    "    file.close()"
   ]
  },
  {
   "cell_type": "code",
   "execution_count": null,
   "metadata": {},
   "outputs": [],
   "source": []
  }
 ],
 "metadata": {
  "kernelspec": {
   "display_name": "Python 3",
   "language": "python",
   "name": "python3"
  },
  "language_info": {
   "codemirror_mode": {
    "name": "ipython",
    "version": 3
   },
   "file_extension": ".py",
   "mimetype": "text/x-python",
   "name": "python",
   "nbconvert_exporter": "python",
   "pygments_lexer": "ipython3",
   "version": "3.6.5"
  }
 },
 "nbformat": 4,
 "nbformat_minor": 2
}
