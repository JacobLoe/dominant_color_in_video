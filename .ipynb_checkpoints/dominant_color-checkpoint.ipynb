{
 "cells": [
  {
   "cell_type": "code",
   "execution_count": null,
   "metadata": {},
   "outputs": [],
   "source": [
    "#libraries\n",
    "import cv2\n",
    "import numpy as np\n",
    "import pandas as pd\n",
    "from scipy.spatial.distance import euclidean"
   ]
  },
  {
   "cell_type": "code",
   "execution_count": 2,
   "metadata": {},
   "outputs": [],
   "source": [
    "#read video file frame by frame\n",
    "def read_video(video,skip_frames,resolution):\n",
    "    vid = cv2.VideoCapture(video)\n",
    "    frames=[]\n",
    "    vid_length=0\n",
    "    while(vid.isOpened()):\n",
    "        # Capture frame-by-frame\n",
    "        ret, frame = vid.read() # if ret is false, frame has no content\n",
    "        # resize the video to a different resolution\n",
    "        if ret:\n",
    "            frame=cv2.resize(frame,resolution)\n",
    "        # skip every \"skip_frame\"\n",
    "        if vid_length%skip_frames==0:\n",
    "            frames.append(frame) #add the individual frames to a list\n",
    "        vid_length+=1 #increase the vid_length counter\n",
    "        if not ret:\n",
    "            # Display the resulting frame\n",
    "#             cv2.imshow('frame',frame)\n",
    "#             if cv2.waitKey(1) & 0xFF == ord('q'):\n",
    "#                 break\n",
    "#         else:\n",
    "#             break\n",
    "            break\n",
    "    vid.release()\n",
    "    cv2.destroyAllWindows()\n",
    "    return frames"
   ]
  },
  {
   "cell_type": "code",
   "execution_count": 3,
   "metadata": {},
   "outputs": [
    {
     "data": {
      "text/plain": [
       "2139"
      ]
     },
     "execution_count": 3,
     "metadata": {},
     "output_type": "execute_result"
    }
   ],
   "source": [
    "frames=read_video('/home/jacob/Downloads/IMG_2525.MOV',2,(640,360))\n",
    "len(frames)"
   ]
  },
  {
   "cell_type": "markdown",
   "metadata": {},
   "source": [
    "Dominant Color Extractor"
   ]
  },
  {
   "cell_type": "code",
   "execution_count": 4,
   "metadata": {},
   "outputs": [],
   "source": [
    "def dominant3(image,rgb_to_color):\n",
    "    #bins dict for histograms\n",
    "    bins={}\n",
    "    rgb_list=[]\n",
    "    \n",
    "    #init the dict with zeros for every key\n",
    "    for rgb in rgb_to_color:\n",
    "        bins[rgb_to_color[rgb]]=0\n",
    "    #map the values of the dict to a list\n",
    "    for rgb in rgb_to_color:\n",
    "        rgb_list.append(rgb)\n",
    "    #flatten the image to 1d \n",
    "    img = image.reshape((image.shape[0] * image.shape[1], 3))     \n",
    "    \n",
    "    #nearest neighbour search\n",
    "    for pixel in img:\n",
    "        bin_aux=[]\n",
    "        #get the euclidean distance between the colors and the current pixel\n",
    "        for rgb in rgb_list:\n",
    "            bin_aux.append(euclidean(pixel,rgb))\n",
    "        # get the index of the color,which has the smallest distance, in rgb_list\n",
    "        min_pos = np.argmin(bin_aux)\n",
    "        #increment the respective color \n",
    "        bins[rgb_to_color[rgb_list[min_pos]]]+=1\n",
    "    #return the count of all the colors\n",
    "    return bins"
   ]
  },
  {
   "cell_type": "code",
   "execution_count": 5,
   "metadata": {},
   "outputs": [
    {
     "data": {
      "text/plain": [
       "45"
      ]
     },
     "execution_count": 5,
     "metadata": {},
     "output_type": "execute_result"
    }
   ],
   "source": [
    "#read the file with colors and there rgb-values into a dictionary\n",
    "rgb_to_color = {}\n",
    "with open(\"colors\") as f:\n",
    "    for line in f:\n",
    "        #split lines at \"::\n",
    "        color, rgb = line.strip().split(':')\n",
    "        #strip the rgb-string of the parenthesis, split it up a the commas,\n",
    "        #cast them to int and put them into a tuples\n",
    "        rgb_value=tuple(map(int,\n",
    "                            (rgb.strip('(').strip(')').split(','))))\n",
    "        rgb_to_color[rgb_value] = color\n",
    "len(rgb_to_color)\n",
    "#purple is median purple\n",
    "#skin is caucasian "
   ]
  },
  {
   "cell_type": "code",
   "execution_count": null,
   "metadata": {},
   "outputs": [],
   "source": [
    "bins=dominant3(frames[0],rgb_to_color)\n",
    "print(bins)"
   ]
  },
  {
   "cell_type": "markdown",
   "metadata": {},
   "source": [
    "3. histogram"
   ]
  },
  {
   "cell_type": "code",
   "execution_count": 58,
   "metadata": {},
   "outputs": [
    {
     "data": {
      "text/html": [
       "<div>\n",
       "<style scoped>\n",
       "    .dataframe tbody tr th:only-of-type {\n",
       "        vertical-align: middle;\n",
       "    }\n",
       "\n",
       "    .dataframe tbody tr th {\n",
       "        vertical-align: top;\n",
       "    }\n",
       "\n",
       "    .dataframe thead th {\n",
       "        text-align: right;\n",
       "    }\n",
       "</style>\n",
       "<table border=\"1\" class=\"dataframe\">\n",
       "  <thead>\n",
       "    <tr style=\"text-align: right;\">\n",
       "      <th></th>\n",
       "      <th>count</th>\n",
       "    </tr>\n",
       "    <tr>\n",
       "      <th>color</th>\n",
       "      <th></th>\n",
       "    </tr>\n",
       "  </thead>\n",
       "  <tbody>\n",
       "    <tr>\n",
       "      <th>steel_blue</th>\n",
       "      <td>8007</td>\n",
       "    </tr>\n",
       "    <tr>\n",
       "      <th>white</th>\n",
       "      <td>15217</td>\n",
       "    </tr>\n",
       "    <tr>\n",
       "      <th>dim_grey</th>\n",
       "      <td>40634</td>\n",
       "    </tr>\n",
       "    <tr>\n",
       "      <th>black</th>\n",
       "      <td>57587</td>\n",
       "    </tr>\n",
       "    <tr>\n",
       "      <th>dark_olive_green</th>\n",
       "      <td>74141</td>\n",
       "    </tr>\n",
       "  </tbody>\n",
       "</table>\n",
       "</div>"
      ],
      "text/plain": [
       "                  count\n",
       "color                  \n",
       "steel_blue         8007\n",
       "white             15217\n",
       "dim_grey          40634\n",
       "black             57587\n",
       "dark_olive_green  74141"
      ]
     },
     "execution_count": 58,
     "metadata": {},
     "output_type": "execute_result"
    }
   ],
   "source": [
    "sort=zip(list(bins.values()),list(bins.keys()))\n",
    "sort=sorted(sort)\n",
    "df=pd.DataFrame(sort,columns=['count','color'])\n",
    "df.set_index('color',inplace=True)\n",
    "df.tail()"
   ]
  },
  {
   "cell_type": "code",
   "execution_count": 59,
   "metadata": {},
   "outputs": [
    {
     "data": {
      "text/plain": [
       "<matplotlib.axes._subplots.AxesSubplot at 0x7f3c9f1d8828>"
      ]
     },
     "execution_count": 59,
     "metadata": {},
     "output_type": "execute_result"
    },
    {
     "data": {
      "image/png": "[encoded data removed]",
      "text/plain": [
       "<matplotlib.figure.Figure at 0x7f3c9f1ba780>"
      ]
     },
     "metadata": {},
     "output_type": "display_data"
    }
   ],
   "source": [
    "df.plot(kind='bar')"
   ]
  }
 ],
 "metadata": {
  "kernelspec": {
   "display_name": "Python 3",
   "language": "python",
   "name": "python3"
  },
  "language_info": {
   "codemirror_mode": {
    "name": "ipython",
    "version": 3
   },
   "file_extension": ".py",
   "mimetype": "text/x-python",
   "name": "python",
   "nbconvert_exporter": "python",
   "pygments_lexer": "ipython3",
   "version": "3.6.4"
  }
 },
 "nbformat": 4,
 "nbformat_minor": 2
}
