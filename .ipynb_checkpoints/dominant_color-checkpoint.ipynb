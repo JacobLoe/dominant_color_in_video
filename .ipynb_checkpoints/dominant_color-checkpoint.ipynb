{
 "cells": [
  {
   "cell_type": "code",
   "execution_count": 33,
   "metadata": {},
   "outputs": [],
   "source": [
    "#libraries\n",
    "import cv2\n",
    "import numpy as np\n",
    "import pandas as pd\n",
    "from scipy.spatial.distance import euclidean\n",
    "from sklearn.neighbors import KDTree\n",
    "import time\n",
    "import argparse\n",
    "import json"
   ]
  },
  {
   "cell_type": "markdown",
   "metadata": {},
   "source": [
    "can I start from specific timestamps ?\n",
    "\n",
    "what happens for skip_frames=0 ?"
   ]
  },
  {
   "cell_type": "code",
   "execution_count": 34,
   "metadata": {},
   "outputs": [],
   "source": [
    "#read video file frame by frame, beginning and ending with a timestamp\n",
    "def read_video_segments(video,start_frame,end_frame,resolution_width=200):\n",
    "    resolution_height=int(round(resolution_width * 9/16))\n",
    "    resolution=(resolution_width,resolution_height)\n",
    "    vid = cv2.VideoCapture(video)\n",
    "    frames=[]\n",
    "    vid_length=0\n",
    "    while(vid.isOpened()):\n",
    "        # Capture frame-by-frame\n",
    "        ret, frame = vid.read() # if ret is false, frame has no content\n",
    "        if not ret:\n",
    "            break\n",
    "        # skip every \"skip_frame\"\n",
    "        if vid_length>=start_frame:\n",
    "            # resize the video to a different resolution\n",
    "            frame=cv2.resize(frame,resolution)\n",
    "            frames.append(frame) #add the individual frames to a list\n",
    "        if vid_length==end_frame:\n",
    "            break\n",
    "        vid_length+=1 #increase the vid_length counter\n",
    "    vid.release()\n",
    "    cv2.destroyAllWindows()\n",
    "    return frames"
   ]
  },
  {
   "cell_type": "markdown",
   "metadata": {},
   "source": [
    "Dominant Color Extractor\n",
    "\n",
    "- add better comments"
   ]
  },
  {
   "cell_type": "code",
   "execution_count": 35,
   "metadata": {},
   "outputs": [],
   "source": [
    "def extract_dominant_color(frame_list):\n",
    "    print(str(len(frame_list))+' frames to process.')\n",
    "    start=time.time()\n",
    "    rgb_to_color=fn_rgb_to_color() #get the color dict \n",
    "    bins={} #a dict with an entry for each for histograms \n",
    "    for rgb in rgb_to_color: #init the dict with zeros for every key\n",
    "        bins[rgb_to_color[rgb]]=0\n",
    "        \n",
    "    rgb_list=[] #create a list of the rgb_values\n",
    "    for rgb in rgb_to_color: #map the values of the dict to a list\n",
    "        rgb_list.append(rgb)\n",
    "    i = 0\n",
    "\n",
    "    kdt = KDTree(rgb_list, leaf_size=30, metric='euclidean')  \n",
    "    for image in frame_list: #traverse the video\n",
    "        #flatten the image to 1d \n",
    "        img = image.reshape((image.shape[0] * image.shape[1], 3))     \n",
    "        nns = kdt.query(img, k=1, return_distance=False)\n",
    "        for nn in nns:\n",
    "            bins[rgb_to_color[rgb_list[nn[0]]]]+=1\n",
    "#        for pixel in img: # do nearest neighbour search on every pixel every color in the list\n",
    "#            bin_aux=[]\n",
    "#            #get the euclidean distance between the colors and the current pixel\n",
    "#            for rgb in rgb_list:\n",
    "#                bin_aux.append(euclidean(pixel,rgb))\n",
    "#            # get the index of the color,which has the smallest distance, in rgb_list\n",
    "#            min_pos = np.argmin(bin_aux)\n",
    "#            #increment the respective color \n",
    "#            bins[rgb_to_color[rgb_list[min_pos]]]+=1\n",
    "        i+=1\n",
    "        end=time.time()\n",
    "        print('Finished '+str(i)+',time: '+str(end-start))\n",
    "        norm_factor = len(frame_list)* np.shape(frame_list[0])[0] * np.shape(frame_list[0])[1]#normalize the bins\n",
    "        bins_norm={k:v/norm_factor for k,v in bins.items()}\n",
    "    return bins_norm"
   ]
  },
  {
   "cell_type": "code",
   "execution_count": 36,
   "metadata": {},
   "outputs": [],
   "source": [
    "def bins_to_df(bins,bin_threshold=5,colors_to_return=5):\n",
    "    #create a dataframe, sorted descending by count\n",
    "    bins_sorted=sorted(zip(list(bins.values()),list(bins.keys())),reverse=True)\n",
    "    df=pd.DataFrame(bins_sorted,columns=['count','color'])\n",
    "    df.set_index('color',inplace=True) #set the colors as the index of the dataframe\n",
    "    bin_threshold=bin_threshold/100 #scale the percentage to 0-1\n",
    "    df = df[df>bin_threshold].dropna() #kick bins from the dataframe with precentage lower than bin_threshold \n",
    "    return df.head(colors_to_return)#return the color_return highest bins, default 5, if less bins then\n",
    "                                    #color_return are there return all"
   ]
  },
  {
   "cell_type": "code",
   "execution_count": 37,
   "metadata": {},
   "outputs": [],
   "source": [
    "def fn_rgb_to_color(*path):\n",
    "    if not ('no'):\n",
    "        path=str(path)[2:-3] #to get rid of the of the *args things\n",
    "        rgb_to_color = {}\n",
    "        with open(path) as f:\n",
    "            for line in f:\n",
    "                #split lines at \"::\n",
    "                color, rgb = line.strip().split(':')\n",
    "                #strip the rgb-string of the parenthesis, split it up a the commas,\n",
    "                #cast them to int and put them into a tuples\n",
    "                rgb_value=tuple(map(int,(rgb.strip('(').strip(')').split(','))))\n",
    "                rgb_to_color[rgb_value] = color\n",
    "    else:\n",
    "        print('dfd')\n",
    "        colors={'darkred':(139,0,0),\n",
    "        'firebrick':(178,34,34),\n",
    "        'crimson':(220,20,60),\n",
    "        'red':(255,0,0),\n",
    "        'tomato':(255,99,71),\n",
    "        'salmon':(250,128,114),\n",
    "        'darkorange':(255,140,0),\n",
    "        'gold':(255,215,0),\n",
    "        'darkkhaki':(189,183,107),\n",
    "        'yellow':(255,255,0),\n",
    "        'darkolivegreen':(85,107,47),\n",
    "        'olivedrab':(107,142,35),\n",
    "        'greenyellow':(173,255,47),\n",
    "        'darkgreen':(0,100,0),\n",
    "        'aquamarine':(127,255,212),\n",
    "        'steelblue':(70,130,180),\n",
    "        'skyblue':(135,206,235),\n",
    "        'darkblue':(0,0,139),\n",
    "        'blue':(0,0,255),\n",
    "        'royalblue':(65,105,225),\n",
    "        'purple':(128,0,128),\n",
    "        'violet':(238,130,238),\n",
    "        'deeppink':(255,20,147),\n",
    "        'pink':(255,192,203),\n",
    "        'antiquewhite':(250,235,215),\n",
    "        'saddlebrown':(139,69,19),\n",
    "        'sandybrown':(244,164,96),\n",
    "        'ivory':(255,255,240),\n",
    "        'dimgrey':(105,105,105),\n",
    "        'grey':(28,128,128),\n",
    "        'silver':(192,192,192),\n",
    "        'lightgrey':(211,211,211),\n",
    "        'black':(0,0,0),\n",
    "        'white':(255,255,255),\n",
    "        'darkcyan':(0,139,139),\n",
    "        'cyan':(0,255,255),\n",
    "        'green':(0,128,0),\n",
    "        'khaki':(240,230,140),\n",
    "        'goldenrod':(218,165,32),\n",
    "        'orange':(255,165,0),\n",
    "        'coral':(255,127,80),\n",
    "        'magenta':(255,0,255),\n",
    "        'wheat':(245,222,179),\n",
    "        'skin':(255,224,189),\n",
    "        'purple4':(147,112,219)}\n",
    "        rgb_to_color={}\n",
    "        for color in colors:\n",
    "            rgb_to_color[colors[color]]=color\n",
    "        #purple4 is median purple\n",
    "        #skin is caucasian\n",
    "    return rgb_to_color"
   ]
  },
  {
   "cell_type": "code",
   "execution_count": 38,
   "metadata": {},
   "outputs": [],
   "source": [
    "#read the file with colors and there rgb-values into a dictionary\n",
    "def read_color_from_file(path):\n",
    "    rgb_to_color = {}\n",
    "    with open(path) as f:\n",
    "        for line in f:\n",
    "            #split lines at \"::\n",
    "            color, rgb = line.strip().split(':')\n",
    "            #strip the rgb-string of the parenthesis, split it up a the commas,\n",
    "            #cast them to int and put them into a tuples\n",
    "            rgb_value=tuple(map(int,(rgb.strip('(').strip(')').split(','))))\n",
    "            rgb_to_color[rgb_value] = color\n",
    "    return rgb_to_color"
   ]
  },
  {
   "cell_type": "code",
   "execution_count": 39,
   "metadata": {},
   "outputs": [],
   "source": [
    "black=np.array([[[0,0,0],[0,0,0],[0,0,0],[0,0,0],[0,0,0]],\n",
    "                [[0,0,0],[0,0,0],[0,0,0],[0,0,0],[0,0,0]],\n",
    "                [[0,0,0],[0,0,0],[0,0,0],[0,0,0],[0,0,0]]])\n",
    "red=np.array([[[255,0,0],[255,0,0],[255,0,0],[255,0,0],[255,0,0]],\n",
    "             [[255,0,0],[255,0,0],[255,0,0],[255,0,0],[255,0,0]],\n",
    "              [[255,0,0],[255,0,0],[255,0,0],[255,0,0],[255,0,0]]])\n",
    "green=np.array([[[0,255,0],[0,255,0],[0,255,0],[0,255,0],[0,255,0]],\n",
    "               [[0,255,0],[0,255,0],[0,255,0],[0,255,0],[0,255,0]],\n",
    "               [[0,255,0],[0,255,0],[0,255,0],[0,255,0],[0,255,0]]])\n",
    "blue=np.array([[[0,0,255],[0,0,255],[0,0,255],[0,0,255],[0,0,255]],\n",
    "              [[0,0,255],[0,0,255],[0,0,255],[0,0,255],[0,0,255]],\n",
    "              [[0,0,255],[0,0,255],[0,0,255],[0,0,255],[0,0,255]]])\n",
    "white=np.array([[[255,255,255],[255,255,255],[255,255,255],[255,255,255],[255,255,255]],\n",
    "               [[255,255,255],[255,255,255],[255,255,255],[255,255,255],[255,255,255]],\n",
    "               [[255,255,255],[255,255,255],[255,255,255],[255,255,255],[255,255,255]]])"
   ]
  },
  {
   "cell_type": "code",
   "execution_count": 40,
   "metadata": {},
   "outputs": [
    {
     "name": "stdout",
     "output_type": "stream",
     "text": [
      "(4, 3, 5, 3)\n",
      "4 frames to process.\n",
      "dfd\n",
      "Finished 1,time: 0.0007488727569580078\n",
      "Finished 2,time: 0.0012660026550292969\n",
      "Finished 3,time: 0.0017554759979248047\n",
      "Finished 4,time: 0.0022242069244384766\n"
     ]
    }
   ],
   "source": [
    "a=[red,blue,red,blue]\n",
    "print(np.shape(a))\n",
    "assert x == extract_dominant_color(a)"
   ]
  },
  {
   "cell_type": "code",
   "execution_count": 41,
   "metadata": {},
   "outputs": [
    {
     "name": "stdout",
     "output_type": "stream",
     "text": [
      "(10, 3, 5, 3)\n"
     ]
    },
    {
     "ename": "AssertionError",
     "evalue": "",
     "output_type": "error",
     "traceback": [
      "\u001b[0;31m---------------------------------------------------------------------------\u001b[0m",
      "\u001b[0;31mAssertionError\u001b[0m                            Traceback (most recent call last)",
      "\u001b[0;32m<ipython-input-41-87e1479fb6a6>\u001b[0m in \u001b[0;36m<module>\u001b[0;34m()\u001b[0m\n\u001b[1;32m      1\u001b[0m \u001b[0mb\u001b[0m \u001b[0;34m=\u001b[0m \u001b[0mread_video_segments\u001b[0m\u001b[0;34m(\u001b[0m\u001b[0;34m'videos/red.mp4'\u001b[0m\u001b[0;34m,\u001b[0m\u001b[0;36m0\u001b[0m\u001b[0;34m,\u001b[0m\u001b[0;36m9\u001b[0m\u001b[0;34m,\u001b[0m\u001b[0;36m5\u001b[0m\u001b[0;34m)\u001b[0m\u001b[0;34m\u001b[0m\u001b[0m\n\u001b[1;32m      2\u001b[0m \u001b[0mprint\u001b[0m\u001b[0;34m(\u001b[0m\u001b[0mnp\u001b[0m\u001b[0;34m.\u001b[0m\u001b[0mshape\u001b[0m\u001b[0;34m(\u001b[0m\u001b[0mb\u001b[0m\u001b[0;34m)\u001b[0m\u001b[0;34m)\u001b[0m\u001b[0;34m\u001b[0m\u001b[0m\n\u001b[0;32m----> 3\u001b[0;31m \u001b[0;32massert\u001b[0m \u001b[0mnp\u001b[0m\u001b[0;34m.\u001b[0m\u001b[0mshape\u001b[0m\u001b[0;34m(\u001b[0m\u001b[0mb\u001b[0m\u001b[0;34m)\u001b[0m\u001b[0;34m==\u001b[0m\u001b[0;34m(\u001b[0m\u001b[0;36m2\u001b[0m\u001b[0;34m,\u001b[0m\u001b[0;36m3\u001b[0m\u001b[0;34m,\u001b[0m\u001b[0;36m5\u001b[0m\u001b[0;34m,\u001b[0m\u001b[0;36m3\u001b[0m\u001b[0;34m)\u001b[0m\u001b[0;34m\u001b[0m\u001b[0m\n\u001b[0m",
      "\u001b[0;31mAssertionError\u001b[0m: "
     ]
    }
   ],
   "source": [
    "b = read_video_segments('videos/red.mp4',0,9,5)\n",
    "print(np.shape(b))\n",
    "assert np.shape(b)==(2,3,5,3)"
   ]
  },
  {
   "cell_type": "code",
   "execution_count": 42,
   "metadata": {},
   "outputs": [],
   "source": [
    "x ={'antiquewhite': 0.0,'aquamarine': 0.0,'black': 0.0,'blue': 0.5,'coral': 0.0, 'crimson': 0.0, 'cyan': 0.0, 'darkblue': 0.0,\n",
    " 'darkcyan': 0.0, 'darkgreen': 0.0, 'darkkhaki': 0.0, 'darkolivegreen': 0.0,'darkorange': 0.0, 'darkred': 0.0, 'deeppink': 0.0, 'dimgrey': 0.0,\n",
    " 'firebrick': 0.0, 'gold': 0.0, 'goldenrod': 0.0, 'green': 0.0,'greenyellow': 0.0, 'grey': 0.0, 'ivory': 0.0, 'khaki': 0.0,\n",
    " 'lightgrey': 0.0, 'magenta': 0.0, 'olivedrab': 0.0, 'orange': 0.0,'pink': 0.0, 'purple': 0.0, 'purple4': 0.0, 'red': 0.5,\n",
    " 'royalblue': 0.0, 'saddlebrown': 0.0, 'salmon': 0.0, 'sandybrown': 0.0,'silver': 0.0, 'skin': 0.0, 'skyblue': 0.0, 'steelblue': 0.0,\n",
    " 'tomato': 0.0, 'violet': 0.0, 'wheat': 0.0, 'white': 0.0, 'yellow': 0.0}"
   ]
  },
  {
   "cell_type": "code",
   "execution_count": 43,
   "metadata": {},
   "outputs": [
    {
     "data": {
      "text/plain": [
       "{'antiquewhite': 0.0,\n",
       " 'aquamarine': 0.0,\n",
       " 'black': 0.0,\n",
       " 'blue': 0.5,\n",
       " 'coral': 0.0,\n",
       " 'crimson': 0.0,\n",
       " 'cyan': 0.0,\n",
       " 'darkblue': 0.0,\n",
       " 'darkcyan': 0.0,\n",
       " 'darkgreen': 0.0,\n",
       " 'darkkhaki': 0.0,\n",
       " 'darkolivegreen': 0.0,\n",
       " 'darkorange': 0.0,\n",
       " 'darkred': 0.0,\n",
       " 'deeppink': 0.0,\n",
       " 'dimgrey': 0.0,\n",
       " 'firebrick': 0.0,\n",
       " 'gold': 0.0,\n",
       " 'goldenrod': 0.0,\n",
       " 'green': 0.0,\n",
       " 'greenyellow': 0.0,\n",
       " 'grey': 0.0,\n",
       " 'ivory': 0.0,\n",
       " 'khaki': 0.0,\n",
       " 'lightgrey': 0.0,\n",
       " 'magenta': 0.0,\n",
       " 'olivedrab': 0.0,\n",
       " 'orange': 0.0,\n",
       " 'pink': 0.0,\n",
       " 'purple': 0.0,\n",
       " 'purple4': 0.0,\n",
       " 'red': 0.5,\n",
       " 'royalblue': 0.0,\n",
       " 'saddlebrown': 0.0,\n",
       " 'salmon': 0.0,\n",
       " 'sandybrown': 0.0,\n",
       " 'silver': 0.0,\n",
       " 'skin': 0.0,\n",
       " 'skyblue': 0.0,\n",
       " 'steelblue': 0.0,\n",
       " 'tomato': 0.0,\n",
       " 'violet': 0.0,\n",
       " 'wheat': 0.0,\n",
       " 'white': 0.0,\n",
       " 'yellow': 0.0}"
      ]
     },
     "execution_count": 43,
     "metadata": {},
     "output_type": "execute_result"
    }
   ],
   "source": [
    "x"
   ]
  },
  {
   "cell_type": "code",
   "execution_count": null,
   "metadata": {},
   "outputs": [],
   "source": []
  }
 ],
 "metadata": {
  "kernelspec": {
   "display_name": "Python 3",
   "language": "python",
   "name": "python3"
  },
  "language_info": {
   "codemirror_mode": {
    "name": "ipython",
    "version": 3
   },
   "file_extension": ".py",
   "mimetype": "text/x-python",
   "name": "python",
   "nbconvert_exporter": "python",
   "pygments_lexer": "ipython3",
   "version": "3.6.5"
  }
 },
 "nbformat": 4,
 "nbformat_minor": 2
}
